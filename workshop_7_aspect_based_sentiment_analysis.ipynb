{
 "cells": [
  {
   "cell_type": "markdown",
   "metadata": {},
   "source": [
    "# Unsupervised approach for Aspect Based Sentiment Analysis on Restaurant Reviews"
   ]
  },
  {
   "cell_type": "markdown",
   "metadata": {},
   "source": [
    "We introduce simplest possible approach for unsupervised aspect based sentiment analysis. Here we use word2vec embeddings from spaCy for matching candidate terms from sentences to aspects (classification of aspect terms) and dependency tree parsing using spaCy to detect references of opinion words to aspect terms. Additional list of positive and negative opinion words list is used for classifying sentiment and further analysis of dependencies is used for polarity detection (negations, verbs, adjectives of opinion words, etc).  "
   ]
  },
  {
   "cell_type": "markdown",
   "metadata": {},
   "source": [
    "# Install Requirements"
   ]
  },
  {
   "cell_type": "code",
   "execution_count": 1,
   "metadata": {},
   "outputs": [],
   "source": [
    "# !pip install pandas==1.0.3 \\\n",
    "# scikit-learn==0.21.3 \\\n",
    "# scikit-multilearn==0.2.0 \\\n",
    "# neuralcoref==4.0.0 \\\n",
    "# spacy==2.1.0 \\\n",
    "# plotly==4.6.0 \\\n",
    "# gensim==3.8.0 \\\n",
    "# matplotlib==3.1.3 \\\n",
    "# six==1.12.0 \\\n",
    "# numpy==1.16.5 \\\n",
    "# nltk==3.4.5 \\\n",
    "# cython"
   ]
  },
  {
   "cell_type": "markdown",
   "metadata": {},
   "source": [
    "Download large english model which has word embeddings"
   ]
  },
  {
   "cell_type": "code",
   "execution_count": 2,
   "metadata": {},
   "outputs": [],
   "source": [
    "# !python -m spacy download en_core_web_lg"
   ]
  },
  {
   "cell_type": "markdown",
   "metadata": {},
   "source": [
    "# Imports"
   ]
  },
  {
   "cell_type": "code",
   "execution_count": 3,
   "metadata": {},
   "outputs": [],
   "source": [
    "%load_ext autoreload\n",
    "%autoreload 2\n",
    "\n",
    "%matplotlib inline"
   ]
  },
  {
   "cell_type": "code",
   "execution_count": 4,
   "metadata": {},
   "outputs": [],
   "source": [
    "import pandas as pd\n",
    "import os\n",
    "import json\n",
    "import re\n",
    "import spacy\n",
    "import matplotlib.pyplot as plt"
   ]
  },
  {
   "cell_type": "code",
   "execution_count": 72,
   "metadata": {},
   "outputs": [],
   "source": [
    "import warnings\n",
    "warnings.filterwarnings(\"ignore\")"
   ]
  },
  {
   "cell_type": "markdown",
   "metadata": {},
   "source": [
    "# Retrieve dataset and parse"
   ]
  },
  {
   "cell_type": "markdown",
   "metadata": {},
   "source": [
    "Dataset file is xml format. We will parse them using xml library"
   ]
  },
  {
   "cell_type": "code",
   "execution_count": 5,
   "metadata": {},
   "outputs": [],
   "source": [
    "import xml.etree.ElementTree as ET"
   ]
  },
  {
   "cell_type": "markdown",
   "metadata": {},
   "source": [
    "Download dataset file from github source link"
   ]
  },
  {
   "cell_type": "code",
   "execution_count": 6,
   "metadata": {},
   "outputs": [],
   "source": [
    "if not os.path.exists('absa_data'):\n",
    "    !mkdir absa_data\n",
    "\n",
    "if not os.path.exists('absa_data/Restaurants_Train.xml'):\n",
    "    !cd absa_data && wget https://raw.githubusercontent.com/LFCapollo/Aspect-Based-Sentiment-Analysis/master/data/Restaurants_Train.xml"
   ]
  },
  {
   "cell_type": "markdown",
   "metadata": {},
   "source": [
    "parsing of xml to extract sentences, aspect terms, aspect categories and sentiment polarities"
   ]
  },
  {
   "cell_type": "code",
   "execution_count": 7,
   "metadata": {},
   "outputs": [],
   "source": [
    "def parse_xml_data(root):\n",
    "    \"\"\"Parses xml data to extract aspect terms and aspect categories from each sentence\"\"\"\n",
    "    \n",
    "    reviews = []\n",
    "\n",
    "    for sentence in root.findall(\"sentence\"):\n",
    "        entry = {}\n",
    "        aspect_terms = []\n",
    "        aspect_categories = []\n",
    "        \n",
    "        if sentence.find(\"aspectTerms\"):\n",
    "            for aspect_term in sentence.find(\"aspectTerms\").findall(\"aspectTerm\"):\n",
    "                aspect_terms.append((aspect_term.get(\"term\"), aspect_term.get(\"polarity\")))\n",
    "                \n",
    "        if sentence.find(\"aspectCategories\"):\n",
    "            for aspect_category in sentence.find(\"aspectCategories\").findall(\"aspectCategory\"):\n",
    "                aspect_categories.append((aspect_category.get(\"category\"), aspect_category.get(\"polarity\")))\n",
    "                \n",
    "        entry[\"text\"] = sentence[0].text\n",
    "        entry[\"terms\"] = aspect_terms\n",
    "        entry[\"aspects\"] = aspect_categories\n",
    "        \n",
    "        reviews.append(entry)\n",
    "\n",
    "    reviews_df = pd.DataFrame(reviews)\n",
    "    \n",
    "    return reviews_df"
   ]
  },
  {
   "cell_type": "code",
   "execution_count": 8,
   "metadata": {},
   "outputs": [],
   "source": [
    "tree = ET.parse('absa_data/Restaurants_Train.xml')\n",
    "root = tree.getroot()"
   ]
  },
  {
   "cell_type": "code",
   "execution_count": 9,
   "metadata": {},
   "outputs": [],
   "source": [
    "df = parse_xml_data(root)"
   ]
  },
  {
   "cell_type": "code",
   "execution_count": 10,
   "metadata": {},
   "outputs": [
    {
     "data": {
      "text/html": [
       "<div>\n",
       "<style scoped>\n",
       "    .dataframe tbody tr th:only-of-type {\n",
       "        vertical-align: middle;\n",
       "    }\n",
       "\n",
       "    .dataframe tbody tr th {\n",
       "        vertical-align: top;\n",
       "    }\n",
       "\n",
       "    .dataframe thead th {\n",
       "        text-align: right;\n",
       "    }\n",
       "</style>\n",
       "<table border=\"1\" class=\"dataframe\">\n",
       "  <thead>\n",
       "    <tr style=\"text-align: right;\">\n",
       "      <th></th>\n",
       "      <th>text</th>\n",
       "      <th>terms</th>\n",
       "      <th>aspects</th>\n",
       "    </tr>\n",
       "  </thead>\n",
       "  <tbody>\n",
       "    <tr>\n",
       "      <th>0</th>\n",
       "      <td>But the staff was so horrible to us.</td>\n",
       "      <td>[(staff, negative)]</td>\n",
       "      <td>[(service, negative)]</td>\n",
       "    </tr>\n",
       "    <tr>\n",
       "      <th>1</th>\n",
       "      <td>To be completely fair, the only redeeming fact...</td>\n",
       "      <td>[(food, positive)]</td>\n",
       "      <td>[(food, positive), (anecdotes/miscellaneous, n...</td>\n",
       "    </tr>\n",
       "    <tr>\n",
       "      <th>2</th>\n",
       "      <td>The food is uniformly exceptional, with a very...</td>\n",
       "      <td>[(food, positive), (kitchen, positive), (menu,...</td>\n",
       "      <td>[(food, positive)]</td>\n",
       "    </tr>\n",
       "    <tr>\n",
       "      <th>3</th>\n",
       "      <td>Where Gabriela personaly greets you and recomm...</td>\n",
       "      <td>[]</td>\n",
       "      <td>[(service, positive)]</td>\n",
       "    </tr>\n",
       "    <tr>\n",
       "      <th>4</th>\n",
       "      <td>For those that go once and don't enjoy it, all...</td>\n",
       "      <td>[]</td>\n",
       "      <td>[(anecdotes/miscellaneous, positive)]</td>\n",
       "    </tr>\n",
       "  </tbody>\n",
       "</table>\n",
       "</div>"
      ],
      "text/plain": [
       "                                                text  \\\n",
       "0               But the staff was so horrible to us.   \n",
       "1  To be completely fair, the only redeeming fact...   \n",
       "2  The food is uniformly exceptional, with a very...   \n",
       "3  Where Gabriela personaly greets you and recomm...   \n",
       "4  For those that go once and don't enjoy it, all...   \n",
       "\n",
       "                                               terms  \\\n",
       "0                                [(staff, negative)]   \n",
       "1                                 [(food, positive)]   \n",
       "2  [(food, positive), (kitchen, positive), (menu,...   \n",
       "3                                                 []   \n",
       "4                                                 []   \n",
       "\n",
       "                                             aspects  \n",
       "0                              [(service, negative)]  \n",
       "1  [(food, positive), (anecdotes/miscellaneous, n...  \n",
       "2                                 [(food, positive)]  \n",
       "3                              [(service, positive)]  \n",
       "4              [(anecdotes/miscellaneous, positive)]  "
      ]
     },
     "execution_count": 10,
     "metadata": {},
     "output_type": "execute_result"
    }
   ],
   "source": [
    "df.head()"
   ]
  },
  {
   "cell_type": "markdown",
   "metadata": {},
   "source": [
    "# EDA"
   ]
  },
  {
   "cell_type": "markdown",
   "metadata": {},
   "source": [
    "We do simple exploratory data analysis. Data is much cleaner than usual but some additional cleaning can be applied for improving overall results."
   ]
  },
  {
   "cell_type": "markdown",
   "metadata": {},
   "source": [
    "## Load spaCy english large model (en_core_web_lg - contains word embeddings also)"
   ]
  },
  {
   "cell_type": "markdown",
   "metadata": {},
   "source": [
    "load spaCy english model"
   ]
  },
  {
   "cell_type": "code",
   "execution_count": 11,
   "metadata": {},
   "outputs": [],
   "source": [
    "nlp = spacy.load('en_core_web_lg')"
   ]
  },
  {
   "cell_type": "markdown",
   "metadata": {},
   "source": [
    "## Count Records"
   ]
  },
  {
   "cell_type": "markdown",
   "metadata": {},
   "source": [
    "We don't have too much data. Just several thousand records"
   ]
  },
  {
   "cell_type": "code",
   "execution_count": 12,
   "metadata": {},
   "outputs": [
    {
     "data": {
      "text/plain": [
       "3044"
      ]
     },
     "execution_count": 12,
     "metadata": {},
     "output_type": "execute_result"
    }
   ],
   "source": [
    "df.shape[0]"
   ]
  },
  {
   "cell_type": "markdown",
   "metadata": {},
   "source": [
    "## Show sample values per column"
   ]
  },
  {
   "cell_type": "markdown",
   "metadata": {},
   "source": [
    "Just to have a look at sample values from each column. As we see we have texts (one or more sentences, aspect terms and aspects with polarity values for both)"
   ]
  },
  {
   "cell_type": "code",
   "execution_count": 13,
   "metadata": {},
   "outputs": [
    {
     "name": "stdout",
     "output_type": "stream",
     "text": [
      "==================================================\n",
      "Column: TEXT\n",
      "==================================================\n",
      "Values: ['Oh yes, and they lie on the phone, claiming they have seating in the garden, then of course the seats are not available.', 'So my husband made up an excuse so we can leave.', 'My friends and I experienced amazing cheese and a delicious, new summer menu at Artisanal last night.', 'For those prices and the dressed up atmosphere you expect more and should get more.', \"I'm no food critic, but I'd like to think I have a tiny bit of experience under my belt having lived in NY for the last 11 years.\", 'If you go here - your focus should be the Tamarind Margaritas.', 'I cannot imagine better Indian food in all of the city.', 'A glass of Leaping Lizard, a glass of prosecco, and the mussels had everything happy.', 'The staff makes you feel at home, the food is great and the atmosphere is WONDERFUL!', 'Appetizers are somewhere around $7 each and the main dishes are between $11 and $16.']\n",
      "--------------------------------------------------\n",
      "==================================================\n",
      "Column: TERMS\n",
      "==================================================\n",
      "Values: [[], [('Decor', 'positive'), ('food', 'positive'), ('wine list', 'positive'), ('food', 'neutral')], [], [('service', 'positive'), ('atmosphere', 'positive')], [], [('chef', 'negative'), ('staff', 'negative')], [('fish', 'negative'), ('rice', 'negative')], [('Tuscan cuisine', 'conflict'), ('Neapolitan fare', 'positive')], [('spot lights', 'negative')], [('price', 'negative')]]\n",
      "--------------------------------------------------\n",
      "==================================================\n",
      "Column: ASPECTS\n",
      "==================================================\n",
      "Values: [[('anecdotes/miscellaneous', 'neutral')], [('anecdotes/miscellaneous', 'positive')], [('food', 'neutral')], [('price', 'positive'), ('food', 'positive')], [('anecdotes/miscellaneous', 'negative')], [('ambience', 'negative'), ('price', 'positive')], [('food', 'positive'), ('ambience', 'positive')], [('food', 'positive')], [('service', 'positive')], [('anecdotes/miscellaneous', 'positive')]]\n",
      "--------------------------------------------------\n"
     ]
    }
   ],
   "source": [
    "for column in df.columns:\n",
    "    print('='*50)\n",
    "    print(f'Column: {column.upper()}')\n",
    "    print('='*50)\n",
    "    print(f'Values: {df[column].sample(10).values.tolist()}')\n",
    "    print('-'*50)"
   ]
  },
  {
   "cell_type": "markdown",
   "metadata": {},
   "source": [
    "## Aspects"
   ]
  },
  {
   "cell_type": "markdown",
   "metadata": {},
   "source": [
    "We have just 5 aspect that we need to analyse. (we see later that 'anecdotes/miscellaneous' is kind of hard to analyse with simplest approach and we skip that from evaluation)"
   ]
  },
  {
   "cell_type": "code",
   "execution_count": 14,
   "metadata": {},
   "outputs": [
    {
     "data": {
      "text/plain": [
       "{'ambience', 'anecdotes/miscellaneous', 'food', 'price', 'service'}"
      ]
     },
     "execution_count": 14,
     "metadata": {},
     "output_type": "execute_result"
    }
   ],
   "source": [
    "set(df.aspects.apply(lambda x: [item[0] for item in x]).sum())"
   ]
  },
  {
   "cell_type": "markdown",
   "metadata": {},
   "source": [
    "## Aspects distribution per text/sentence"
   ]
  },
  {
   "cell_type": "markdown",
   "metadata": {},
   "source": [
    "We have mostly one aspect (sometimes 2 and 3) per text"
   ]
  },
  {
   "cell_type": "code",
   "execution_count": 15,
   "metadata": {},
   "outputs": [
    {
     "data": {
      "image/png": "[encoded data removed]",
      "text/plain": [
       "<Figure size 432x288 with 1 Axes>"
      ]
     },
     "metadata": {
      "needs_background": "light"
     },
     "output_type": "display_data"
    }
   ],
   "source": [
    "df.aspects.apply(lambda x: len(x)).value_counts().plot(kind='barh', title='Distribution of Number of Aspects per sentence/text');"
   ]
  },
  {
   "cell_type": "markdown",
   "metadata": {},
   "source": [
    "## Aspects combinations distribution per text/sentence"
   ]
  },
  {
   "cell_type": "markdown",
   "metadata": {},
   "source": [
    "We further look at all possible combinations of aspects per text"
   ]
  },
  {
   "cell_type": "code",
   "execution_count": 16,
   "metadata": {},
   "outputs": [
    {
     "data": {
      "image/png": "[encoded data removed]",
      "text/plain": [
       "<Figure size 1008x1008 with 1 Axes>"
      ]
     },
     "metadata": {
      "needs_background": "light"
     },
     "output_type": "display_data"
    }
   ],
   "source": [
    "plt.figure(figsize=(14,14))\n",
    "df.aspects.apply(lambda x:[item[0] for item in x]).value_counts().plot(kind='barh', title='Distribution of Combination of aspects per sentence/text');"
   ]
  },
  {
   "cell_type": "markdown",
   "metadata": {},
   "source": [
    "## Number of sentences per text"
   ]
  },
  {
   "cell_type": "code",
   "execution_count": 17,
   "metadata": {},
   "outputs": [],
   "source": [
    "def count_sentences(text):\n",
    "    return len(list(nlp(text).sents))"
   ]
  },
  {
   "cell_type": "code",
   "execution_count": 18,
   "metadata": {},
   "outputs": [
    {
     "data": {
      "text/plain": [
       "2"
      ]
     },
     "execution_count": 18,
     "metadata": {},
     "output_type": "execute_result"
    }
   ],
   "source": [
    "count_sentences(\"I have two sentences here. spaCy must correctly detect the number of sentences.\")"
   ]
  },
  {
   "cell_type": "code",
   "execution_count": 19,
   "metadata": {},
   "outputs": [
    {
     "data": {
      "image/png": "[encoded data removed]",
      "text/plain": [
       "<Figure size 432x288 with 1 Axes>"
      ]
     },
     "metadata": {
      "needs_background": "light"
     },
     "output_type": "display_data"
    }
   ],
   "source": [
    "df.text.apply(count_sentences).value_counts().plot(kind='barh', title='Distribution of Number of sentences per text');"
   ]
  },
  {
   "cell_type": "markdown",
   "metadata": {},
   "source": [
    "# Preprocess Texts"
   ]
  },
  {
   "cell_type": "markdown",
   "metadata": {},
   "source": [
    "## Coreference Resolution"
   ]
  },
  {
   "cell_type": "code",
   "execution_count": 20,
   "metadata": {},
   "outputs": [],
   "source": [
    "import neuralcoref"
   ]
  },
  {
   "cell_type": "code",
   "execution_count": 21,
   "metadata": {},
   "outputs": [
    {
     "data": {
      "text/plain": [
       "<spacy.lang.en.English at 0x7fb6732b46a0>"
      ]
     },
     "execution_count": 21,
     "metadata": {},
     "output_type": "execute_result"
    }
   ],
   "source": [
    "neuralcoref.add_to_pipe(nlp)"
   ]
  },
  {
   "cell_type": "code",
   "execution_count": 22,
   "metadata": {},
   "outputs": [],
   "source": [
    "def replace_pronouns(text):\n",
    "    \"\"\"Replace pronouns in sentences with co-refering nouns\"\"\"\n",
    "    doc = nlp(text)\n",
    "    return doc._.coref_resolved"
   ]
  },
  {
   "cell_type": "code",
   "execution_count": 23,
   "metadata": {},
   "outputs": [
    {
     "data": {
      "text/plain": [
       "'Anz2 is developer. Anz2 is coding right now :).'"
      ]
     },
     "execution_count": 23,
     "metadata": {},
     "output_type": "execute_result"
    }
   ],
   "source": [
    "replace_pronouns(\"Anz2 is developer. He is coding right now :).\")"
   ]
  },
  {
   "cell_type": "code",
   "execution_count": 24,
   "metadata": {},
   "outputs": [],
   "source": [
    "df.loc[:, 'text'] = df.text.apply(replace_pronouns)"
   ]
  },
  {
   "cell_type": "markdown",
   "metadata": {},
   "source": [
    "## Extract Aspect Term Candidates from sentences"
   ]
  },
  {
   "cell_type": "markdown",
   "metadata": {},
   "source": [
    "We just try to extract aspect term candidates from given text. We take only nouns which are longer than 3 characters.\n",
    "That candidates aren't used in our approach but just to see and check candidate terms. Similar approach is used for extracting opinion words and referring aspect terms later."
   ]
  },
  {
   "cell_type": "code",
   "execution_count": 25,
   "metadata": {},
   "outputs": [],
   "source": [
    "def extract_candidate_terms(text):\n",
    "    \"\"\"Extracts all nouns from text as aspect term candidates\"\"\"\n",
    "    \n",
    "    req_tag = ['NN']\n",
    "    candidate_terms = []\n",
    "    \n",
    "    for token in nlp(text):\n",
    "        if (\n",
    "            token.tag_ in req_tag and # token must be noun\n",
    "            token.shape_ != 'x' and # token mustn't be only one character\n",
    "            token.shape_ != 'xx' and # token mustn't be only two character\n",
    "            token.shape_ != 'xxx' # token mustn't be only three character\n",
    "        ):\n",
    "            candidate_terms.append(token.lemma_)\n",
    "            \n",
    "    return candidate_terms"
   ]
  },
  {
   "cell_type": "code",
   "execution_count": 26,
   "metadata": {},
   "outputs": [
    {
     "data": {
      "text/plain": [
       "('But the staff was so horrible to us.', ['staff'])"
      ]
     },
     "execution_count": 26,
     "metadata": {},
     "output_type": "execute_result"
    }
   ],
   "source": [
    "df.text.iloc[0], extract_candidate_terms(df.text.iloc[0])"
   ]
  },
  {
   "cell_type": "code",
   "execution_count": 27,
   "metadata": {},
   "outputs": [],
   "source": [
    "df['aspect_term_candidates'] = df.text.apply(extract_candidate_terms)"
   ]
  },
  {
   "cell_type": "markdown",
   "metadata": {},
   "source": [
    "# Aspect Term Classification"
   ]
  },
  {
   "cell_type": "markdown",
   "metadata": {},
   "source": [
    "We could classify aspect term candidates using word embedding similarity. We are taking embedding of aspect term candidate, also embeddings of aspects and find maximum match. If it's higher than predefined threshold (hyperparameter which can be tuned in final end-to-end system) we assign given aspect category."
   ]
  },
  {
   "cell_type": "code",
   "execution_count": 28,
   "metadata": {},
   "outputs": [
    {
     "data": {
      "text/html": [
       "<div>\n",
       "<style scoped>\n",
       "    .dataframe tbody tr th:only-of-type {\n",
       "        vertical-align: middle;\n",
       "    }\n",
       "\n",
       "    .dataframe tbody tr th {\n",
       "        vertical-align: top;\n",
       "    }\n",
       "\n",
       "    .dataframe thead th {\n",
       "        text-align: right;\n",
       "    }\n",
       "</style>\n",
       "<table border=\"1\" class=\"dataframe\">\n",
       "  <thead>\n",
       "    <tr style=\"text-align: right;\">\n",
       "      <th></th>\n",
       "      <th>text</th>\n",
       "      <th>terms</th>\n",
       "      <th>aspects</th>\n",
       "      <th>aspect_term_candidates</th>\n",
       "    </tr>\n",
       "  </thead>\n",
       "  <tbody>\n",
       "    <tr>\n",
       "      <th>0</th>\n",
       "      <td>But the staff was so horrible to us.</td>\n",
       "      <td>[(staff, negative)]</td>\n",
       "      <td>[(service, negative)]</td>\n",
       "      <td>[staff]</td>\n",
       "    </tr>\n",
       "    <tr>\n",
       "      <th>1</th>\n",
       "      <td>To be completely fair, the only redeeming fact...</td>\n",
       "      <td>[(food, positive)]</td>\n",
       "      <td>[(food, positive), (anecdotes/miscellaneous, n...</td>\n",
       "      <td>[factor, food]</td>\n",
       "    </tr>\n",
       "    <tr>\n",
       "      <th>2</th>\n",
       "      <td>The food is uniformly exceptional, with a very...</td>\n",
       "      <td>[(food, positive), (kitchen, positive), (menu,...</td>\n",
       "      <td>[(food, positive)]</td>\n",
       "      <td>[food, kitchen, food, menu]</td>\n",
       "    </tr>\n",
       "    <tr>\n",
       "      <th>3</th>\n",
       "      <td>Where Gabriela personaly greets you and recomm...</td>\n",
       "      <td>[]</td>\n",
       "      <td>[(service, positive)]</td>\n",
       "      <td>[]</td>\n",
       "    </tr>\n",
       "    <tr>\n",
       "      <th>4</th>\n",
       "      <td>For those that go once and don't enjoy it, all...</td>\n",
       "      <td>[]</td>\n",
       "      <td>[(anecdotes/miscellaneous, positive)]</td>\n",
       "      <td>[]</td>\n",
       "    </tr>\n",
       "  </tbody>\n",
       "</table>\n",
       "</div>"
      ],
      "text/plain": [
       "                                                text  \\\n",
       "0               But the staff was so horrible to us.   \n",
       "1  To be completely fair, the only redeeming fact...   \n",
       "2  The food is uniformly exceptional, with a very...   \n",
       "3  Where Gabriela personaly greets you and recomm...   \n",
       "4  For those that go once and don't enjoy it, all...   \n",
       "\n",
       "                                               terms  \\\n",
       "0                                [(staff, negative)]   \n",
       "1                                 [(food, positive)]   \n",
       "2  [(food, positive), (kitchen, positive), (menu,...   \n",
       "3                                                 []   \n",
       "4                                                 []   \n",
       "\n",
       "                                             aspects  \\\n",
       "0                              [(service, negative)]   \n",
       "1  [(food, positive), (anecdotes/miscellaneous, n...   \n",
       "2                                 [(food, positive)]   \n",
       "3                              [(service, positive)]   \n",
       "4              [(anecdotes/miscellaneous, positive)]   \n",
       "\n",
       "        aspect_term_candidates  \n",
       "0                      [staff]  \n",
       "1               [factor, food]  \n",
       "2  [food, kitchen, food, menu]  \n",
       "3                           []  \n",
       "4                           []  "
      ]
     },
     "execution_count": 28,
     "metadata": {},
     "output_type": "execute_result"
    }
   ],
   "source": [
    "df.head()"
   ]
  },
  {
   "cell_type": "code",
   "execution_count": 29,
   "metadata": {},
   "outputs": [],
   "source": [
    "import numpy as np"
   ]
  },
  {
   "cell_type": "code",
   "execution_count": 30,
   "metadata": {},
   "outputs": [],
   "source": [
    "class EmbeddingClassifier:\n",
    "    \"\"\"Classifying aspect terms into aspects using word embedding similarity\"\"\"\n",
    "    \n",
    "    def __init__(self, nlp, classes:list, threshold:int=0.4):\n",
    "        self.classes = classes\n",
    "        self.class_spans = [nlp(item)[:] for item in classes]\n",
    "        self.threshold = threshold\n",
    "        self.nlp = nlp\n",
    "    \n",
    "    def predict(self, items:list):\n",
    "        \"\"\"Match items to classes using embeddings\"\"\"\n",
    "        predicted_classes = set()\n",
    "        \n",
    "        for item in items:\n",
    "            class_similarities = [\n",
    "                nlp(item)[:].similarity(class_item) \n",
    "                for class_item in self.class_spans\n",
    "            ]\n",
    "            max_idx = np.argmax(class_similarities)\n",
    "            if class_similarities[max_idx] > self.threshold:\n",
    "                predicted_classes.add(self.classes[max_idx])\n",
    "        \n",
    "        return list(predicted_classes)"
   ]
  },
  {
   "cell_type": "code",
   "execution_count": 31,
   "metadata": {},
   "outputs": [
    {
     "data": {
      "text/plain": [
       "{'ambience', 'anecdotes/miscellaneous', 'food', 'price', 'service'}"
      ]
     },
     "execution_count": 31,
     "metadata": {},
     "output_type": "execute_result"
    }
   ],
   "source": [
    "set(df.aspects.apply(lambda x: [item[0] for item in x]).sum())"
   ]
  },
  {
   "cell_type": "markdown",
   "metadata": {},
   "source": [
    "`anecdotes/miscellaneous` is bad aspect category name and will be ignored in our evaluation measurements. It's more general and can't be easily used for measuring vector similarity. To solve such issues we could take several center words for each aspect category like: **food** - **[pizza, drinks, soup, hamburger, fries, etc]** and then measure maximum match between them to decide similarity of aspect term candidate to given aspect category."
   ]
  },
  {
   "cell_type": "code",
   "execution_count": 32,
   "metadata": {},
   "outputs": [],
   "source": [
    "aspect_classes = ['ambience', 'miscellaneous', 'food', 'price', 'service']"
   ]
  },
  {
   "cell_type": "code",
   "execution_count": 33,
   "metadata": {},
   "outputs": [],
   "source": [
    "clf = EmbeddingClassifier(nlp=nlp, classes=aspect_classes, threshold=0.5)"
   ]
  },
  {
   "cell_type": "code",
   "execution_count": 34,
   "metadata": {},
   "outputs": [
    {
     "data": {
      "text/html": [
       "<div>\n",
       "<style scoped>\n",
       "    .dataframe tbody tr th:only-of-type {\n",
       "        vertical-align: middle;\n",
       "    }\n",
       "\n",
       "    .dataframe tbody tr th {\n",
       "        vertical-align: top;\n",
       "    }\n",
       "\n",
       "    .dataframe thead th {\n",
       "        text-align: right;\n",
       "    }\n",
       "</style>\n",
       "<table border=\"1\" class=\"dataframe\">\n",
       "  <thead>\n",
       "    <tr style=\"text-align: right;\">\n",
       "      <th></th>\n",
       "      <th>text</th>\n",
       "      <th>terms</th>\n",
       "      <th>aspects</th>\n",
       "      <th>aspect_term_candidates</th>\n",
       "    </tr>\n",
       "  </thead>\n",
       "  <tbody>\n",
       "    <tr>\n",
       "      <th>0</th>\n",
       "      <td>But the staff was so horrible to us.</td>\n",
       "      <td>[(staff, negative)]</td>\n",
       "      <td>[(service, negative)]</td>\n",
       "      <td>[staff]</td>\n",
       "    </tr>\n",
       "    <tr>\n",
       "      <th>1</th>\n",
       "      <td>To be completely fair, the only redeeming fact...</td>\n",
       "      <td>[(food, positive)]</td>\n",
       "      <td>[(food, positive), (anecdotes/miscellaneous, n...</td>\n",
       "      <td>[factor, food]</td>\n",
       "    </tr>\n",
       "    <tr>\n",
       "      <th>2</th>\n",
       "      <td>The food is uniformly exceptional, with a very...</td>\n",
       "      <td>[(food, positive), (kitchen, positive), (menu,...</td>\n",
       "      <td>[(food, positive)]</td>\n",
       "      <td>[food, kitchen, food, menu]</td>\n",
       "    </tr>\n",
       "    <tr>\n",
       "      <th>3</th>\n",
       "      <td>Where Gabriela personaly greets you and recomm...</td>\n",
       "      <td>[]</td>\n",
       "      <td>[(service, positive)]</td>\n",
       "      <td>[]</td>\n",
       "    </tr>\n",
       "    <tr>\n",
       "      <th>4</th>\n",
       "      <td>For those that go once and don't enjoy it, all...</td>\n",
       "      <td>[]</td>\n",
       "      <td>[(anecdotes/miscellaneous, positive)]</td>\n",
       "      <td>[]</td>\n",
       "    </tr>\n",
       "  </tbody>\n",
       "</table>\n",
       "</div>"
      ],
      "text/plain": [
       "                                                text  \\\n",
       "0               But the staff was so horrible to us.   \n",
       "1  To be completely fair, the only redeeming fact...   \n",
       "2  The food is uniformly exceptional, with a very...   \n",
       "3  Where Gabriela personaly greets you and recomm...   \n",
       "4  For those that go once and don't enjoy it, all...   \n",
       "\n",
       "                                               terms  \\\n",
       "0                                [(staff, negative)]   \n",
       "1                                 [(food, positive)]   \n",
       "2  [(food, positive), (kitchen, positive), (menu,...   \n",
       "3                                                 []   \n",
       "4                                                 []   \n",
       "\n",
       "                                             aspects  \\\n",
       "0                              [(service, negative)]   \n",
       "1  [(food, positive), (anecdotes/miscellaneous, n...   \n",
       "2                                 [(food, positive)]   \n",
       "3                              [(service, positive)]   \n",
       "4              [(anecdotes/miscellaneous, positive)]   \n",
       "\n",
       "        aspect_term_candidates  \n",
       "0                      [staff]  \n",
       "1               [factor, food]  \n",
       "2  [food, kitchen, food, menu]  \n",
       "3                           []  \n",
       "4                           []  "
      ]
     },
     "execution_count": 34,
     "metadata": {},
     "output_type": "execute_result"
    }
   ],
   "source": [
    "df.head()"
   ]
  },
  {
   "cell_type": "code",
   "execution_count": 35,
   "metadata": {},
   "outputs": [
    {
     "data": {
      "text/plain": [
       "['service']"
      ]
     },
     "execution_count": 35,
     "metadata": {},
     "output_type": "execute_result"
    }
   ],
   "source": [
    "clf.predict(df.loc[0, 'aspect_term_candidates'])"
   ]
  },
  {
   "cell_type": "code",
   "execution_count": 36,
   "metadata": {},
   "outputs": [
    {
     "data": {
      "text/plain": [
       "['food']"
      ]
     },
     "execution_count": 36,
     "metadata": {},
     "output_type": "execute_result"
    }
   ],
   "source": [
    "clf.predict(df.loc[1, 'aspect_term_candidates'])"
   ]
  },
  {
   "cell_type": "code",
   "execution_count": 37,
   "metadata": {},
   "outputs": [
    {
     "data": {
      "text/plain": [
       "['food']"
      ]
     },
     "execution_count": 37,
     "metadata": {},
     "output_type": "execute_result"
    }
   ],
   "source": [
    "clf.predict(df.loc[2, 'aspect_term_candidates'])"
   ]
  },
  {
   "cell_type": "code",
   "execution_count": 38,
   "metadata": {},
   "outputs": [
    {
     "data": {
      "text/plain": [
       "[]"
      ]
     },
     "execution_count": 38,
     "metadata": {},
     "output_type": "execute_result"
    }
   ],
   "source": [
    "clf.predict(df.loc[3, 'aspect_term_candidates'])"
   ]
  },
  {
   "cell_type": "markdown",
   "metadata": {},
   "source": [
    "# Detecting Positive and Negative opinion words in context  "
   ]
  },
  {
   "cell_type": "markdown",
   "metadata": {},
   "source": [
    "This approach just checks words in opinion words list, so no similarity is used here. We find negative or positive opinion words and then try to find modifiers of given opinion like: **very** `bad` service. Here very is increasing negativeness of `bad` and it refers to service. We store that negative sentiment referring to service and then try to assign aspect category to service using previously explained similarity based approach."
   ]
  },
  {
   "cell_type": "markdown",
   "metadata": {},
   "source": [
    "## Get negative and positive English opinion words data "
   ]
  },
  {
   "cell_type": "code",
   "execution_count": 39,
   "metadata": {},
   "outputs": [],
   "source": [
    "if not os.path.exists('absa_data/neg_words.txt'):\n",
    "    !cd absa_data/ && wget https://raw.githubusercontent.com/LFCapollo/Aspect-Based-Sentiment-Analysis/master/data/opinion-lexicon-English/neg_words.txt\n",
    "if not os.path.exists('absa_data/pos_words.txt'):\n",
    "    !cd absa_data/ && wget https://raw.githubusercontent.com/LFCapollo/Aspect-Based-Sentiment-Analysis/master/data/opinion-lexicon-English/pos_words.txt"
   ]
  },
  {
   "cell_type": "markdown",
   "metadata": {},
   "source": [
    "## Parse and Load opinion words"
   ]
  },
  {
   "cell_type": "code",
   "execution_count": 40,
   "metadata": {},
   "outputs": [],
   "source": [
    "def load_opinions(path:str):\n",
    "    \"\"\"Load opinion words from file\"\"\"\n",
    "    opinions = []\n",
    "    \n",
    "    with open(path, 'r',  encoding=\"ISO-8859-1\") as file:\n",
    "        for line in file.readlines():\n",
    "            if line.strip():\n",
    "                opinions.append(line.lower().strip())\n",
    "    \n",
    "    \n",
    "    return set(opinions)"
   ]
  },
  {
   "cell_type": "code",
   "execution_count": 41,
   "metadata": {},
   "outputs": [],
   "source": [
    "negative_words = load_opinions('absa_data/neg_words.txt')\n",
    "positive_words = load_opinions('absa_data/pos_words.txt')"
   ]
  },
  {
   "cell_type": "code",
   "execution_count": 42,
   "metadata": {},
   "outputs": [
    {
     "data": {
      "text/plain": [
       "['passive', 'addicted', 'burn', 'thug', 'conspiratorial']"
      ]
     },
     "execution_count": 42,
     "metadata": {},
     "output_type": "execute_result"
    }
   ],
   "source": [
    "list(negative_words)[:5]"
   ]
  },
  {
   "cell_type": "code",
   "execution_count": 43,
   "metadata": {},
   "outputs": [
    {
     "data": {
      "text/plain": [
       "['fav', 'fervently', 'applaud', 'sparkle', 'delicacy']"
      ]
     },
     "execution_count": 43,
     "metadata": {},
     "output_type": "execute_result"
    }
   ],
   "source": [
    "list(positive_words)[:5]"
   ]
  },
  {
   "cell_type": "markdown",
   "metadata": {},
   "source": [
    "## Scoring of feature sentiments using dependency parsing "
   ]
  },
  {
   "cell_type": "markdown",
   "metadata": {},
   "source": [
    "HINT: Please use [spacy dependency visualizer](https://explosion.ai/demos/displacy?text=&model=en_core_web_sm&cpu=1&cph=1) to understand examples mentioned here "
   ]
  },
  {
   "cell_type": "code",
   "execution_count": 44,
   "metadata": {},
   "outputs": [],
   "source": [
    "def feature_sentiment(sentence:str, pos:set, neg:set):\n",
    "    \"\"\"Analyses sentiment of each aspect term in sentence using negative and positive opinion words list\"\"\"\n",
    "    \n",
    "    sent_dict = dict()\n",
    "    sentence = nlp(sentence)\n",
    "    \n",
    "    for token in sentence:\n",
    "        # check if the word is an opinion word, then assign sentiment\n",
    "        if token.text in neg or token.text in pos:\n",
    "            sentiment = 1 if token.text in pos else -1\n",
    "            \n",
    "            # [1] if target is an adverb modifier (i.e. pretty, highly, etc.)\n",
    "            # but happens to be an opinion word, ignore and pass\n",
    "            # example: Client eats [amazingly] rotten fruit.\n",
    "            if (token.dep_ == \"advmod\"):\n",
    "                continue\n",
    "            \n",
    "            # [2] if target is an adjectival modifier (i.e. bad, great, etc.) \n",
    "            # it directly refers to given noun and must assign sentiment of given adjective to given \n",
    "            # token head which is modified noun\n",
    "            # example: Client eats a [rotten] fruit.\n",
    "            elif (token.dep_ == \"amod\"):\n",
    "                sent_dict[token.head.text] = sentiment\n",
    "                \n",
    "            # for opinion words that are adjectives, adverbs, verbs...\n",
    "            else:\n",
    "                for child in token.children:\n",
    "                    \n",
    "                    # [3] if there's a adj modifier (i.e. very, pretty, etc.) add more weight to sentiment\n",
    "                    # This could be better updated for modifiers that either positively or negatively emphasize\n",
    "                    # example: I[like] their service very much.\n",
    "                    if (\n",
    "                        (child.dep_ == \"amod\") or (child.dep_ == \"advmod\")\n",
    "                    ) and (\n",
    "                        child.text in neg or child.text in pos\n",
    "                    ):\n",
    "                        sentiment *= 1.5\n",
    "                        \n",
    "                    # [4] check for negation words and flip the sign of sentiment\n",
    "                    # example: I don't [like] their service that much.\n",
    "                    if child.dep_ == \"neg\":\n",
    "                        sentiment *= -1\n",
    "                \n",
    "                # [5] in case of VERB we check directly referred objects to directly assign sentiment\n",
    "                # example: I [like] their service.\n",
    "                for child in token.children:\n",
    "                    \n",
    "                    # if verb, check if there's a direct object\n",
    "                    if (token.pos_ == \"VERB\") & (child.dep_ == \"dobj\"):                        \n",
    "                        sent_dict[child.text] = sentiment\n",
    "                        \n",
    "                        # check for conjugates (a AND b), then add both to dictionary\n",
    "                        # example: I [like] their service and food.\n",
    "                        subchildren = []\n",
    "                        is_conj = False\n",
    "                        for subchild in child.children:\n",
    "                            if subchild.text == \"and\":\n",
    "                                is_conj = True\n",
    "                            if is_conj and subchild.text != \"and\":\n",
    "                                subchildren.append(subchild.text)\n",
    "                                is_conj = False\n",
    "                                \n",
    "                        for subchild in subchildren:\n",
    "                            sent_dict[subchild] = sentiment\n",
    "\n",
    "                # check another childrens of parent in dependency tree \n",
    "                for child in token.head.children:\n",
    "                    \n",
    "                    if (\n",
    "                        (child.dep_ == \"amod\") or (child.dep_ == \"advmod\")\n",
    "                    ) and (\n",
    "                        child.text in neg or child.text in pos\n",
    "                    ):\n",
    "                        sentiment *= 1.5\n",
    "                        \n",
    "                    # check for negation words and flip the sign of sentiment\n",
    "                    if (child.dep_ == \"neg\"): \n",
    "                        sentiment *= -1\n",
    "                \n",
    "                # check for nouns and assign sentiment to it (or to compound noun)\n",
    "                for child in token.head.children:\n",
    "                    \n",
    "                    noun = \"\"\n",
    "                    if (child.pos_ == \"NOUN\") and (child.text not in sent_dict):\n",
    "                        noun = child.text\n",
    "                        \n",
    "                        # [7] Check for compound nouns\n",
    "                        # example: Their entrance door is amazing and beautiful.\n",
    "                        for subchild in child.children:\n",
    "                            if subchild.dep_ == \"compound\":\n",
    "                                noun = subchild.text + \" \" + noun\n",
    "                        sent_dict[noun] = sentiment\n",
    "                    \n",
    "    return sent_dict"
   ]
  },
  {
   "cell_type": "code",
   "execution_count": 45,
   "metadata": {},
   "outputs": [
    {
     "data": {
      "text/plain": [
       "0                        {'staff': -1}\n",
       "1    {'factor': 1, 'deficiencies': -1}\n",
       "2            {'food': 1, 'kitchen': 1}\n",
       "3                                   {}\n",
       "4                           {'it': -1}\n",
       "Name: text, dtype: object"
      ]
     },
     "execution_count": 45,
     "metadata": {},
     "output_type": "execute_result"
    }
   ],
   "source": [
    "df.text.head().apply(lambda x: feature_sentiment(sentence=x, pos=positive_words, neg=negative_words))"
   ]
  },
  {
   "cell_type": "markdown",
   "metadata": {},
   "source": [
    "# Aspect Based Sentiment Analysis"
   ]
  },
  {
   "cell_type": "markdown",
   "metadata": {},
   "source": [
    "Implementation of aspect based sentiment analysis class object. It takes text, split into sentences, find aspect term candidates or nouns in sentences and referred sentiments with previously described scoring mechanism. It then assigns aspect categories for each aspect term candidate."
   ]
  },
  {
   "cell_type": "code",
   "execution_count": 46,
   "metadata": {},
   "outputs": [],
   "source": [
    "class AspectBasedSentimentAnalyser:\n",
    "    \"\"\"Implements aspect based sentiment analysis\"\"\"\n",
    "    \n",
    "    def __init__(self, nlp, aspects:list, negative_opinions:list, positive_opinions:list, threshold:int):\n",
    "        self.classifier = EmbeddingClassifier(nlp=nlp, classes=aspects, threshold=threshold)\n",
    "        self.negative_opinions = negative_opinions\n",
    "        self.positive_opinions = positive_opinions\n",
    "        self.nlp = nlp\n",
    "    \n",
    "    def analyse(self, text):\n",
    "        aspect_sentiments = {}\n",
    "        for sentence in self.nlp(text).sents:\n",
    "            for feature, sentiment_value in feature_sentiment(\n",
    "                sentence=sentence.text, pos=self.positive_opinions, neg=self.negative_opinions\n",
    "            ).items():\n",
    "                predicted_aspect = self.classifier.predict([feature])\n",
    "                \n",
    "                if predicted_aspect:\n",
    "                    aspect_sentiments[predicted_aspect[0]] = aspect_sentiments.get(predicted_aspect[0], 0) + sentiment_value\n",
    "        \n",
    "        return aspect_sentiments"
   ]
  },
  {
   "cell_type": "code",
   "execution_count": 47,
   "metadata": {},
   "outputs": [],
   "source": [
    "sent_analyser = AspectBasedSentimentAnalyser(\n",
    "    nlp=nlp,\n",
    "    aspects=aspect_classes,\n",
    "    negative_opinions=negative_words,\n",
    "    positive_opinions=positive_words,\n",
    "    threshold=0.3\n",
    ")"
   ]
  },
  {
   "cell_type": "code",
   "execution_count": 48,
   "metadata": {},
   "outputs": [
    {
     "data": {
      "text/html": [
       "<div>\n",
       "<style scoped>\n",
       "    .dataframe tbody tr th:only-of-type {\n",
       "        vertical-align: middle;\n",
       "    }\n",
       "\n",
       "    .dataframe tbody tr th {\n",
       "        vertical-align: top;\n",
       "    }\n",
       "\n",
       "    .dataframe thead th {\n",
       "        text-align: right;\n",
       "    }\n",
       "</style>\n",
       "<table border=\"1\" class=\"dataframe\">\n",
       "  <thead>\n",
       "    <tr style=\"text-align: right;\">\n",
       "      <th></th>\n",
       "      <th>text</th>\n",
       "      <th>terms</th>\n",
       "      <th>aspects</th>\n",
       "      <th>aspect_term_candidates</th>\n",
       "    </tr>\n",
       "  </thead>\n",
       "  <tbody>\n",
       "    <tr>\n",
       "      <th>0</th>\n",
       "      <td>But the staff was so horrible to us.</td>\n",
       "      <td>[(staff, negative)]</td>\n",
       "      <td>[(service, negative)]</td>\n",
       "      <td>[staff]</td>\n",
       "    </tr>\n",
       "    <tr>\n",
       "      <th>1</th>\n",
       "      <td>To be completely fair, the only redeeming fact...</td>\n",
       "      <td>[(food, positive)]</td>\n",
       "      <td>[(food, positive), (anecdotes/miscellaneous, n...</td>\n",
       "      <td>[factor, food]</td>\n",
       "    </tr>\n",
       "    <tr>\n",
       "      <th>2</th>\n",
       "      <td>The food is uniformly exceptional, with a very...</td>\n",
       "      <td>[(food, positive), (kitchen, positive), (menu,...</td>\n",
       "      <td>[(food, positive)]</td>\n",
       "      <td>[food, kitchen, food, menu]</td>\n",
       "    </tr>\n",
       "    <tr>\n",
       "      <th>3</th>\n",
       "      <td>Where Gabriela personaly greets you and recomm...</td>\n",
       "      <td>[]</td>\n",
       "      <td>[(service, positive)]</td>\n",
       "      <td>[]</td>\n",
       "    </tr>\n",
       "    <tr>\n",
       "      <th>4</th>\n",
       "      <td>For those that go once and don't enjoy it, all...</td>\n",
       "      <td>[]</td>\n",
       "      <td>[(anecdotes/miscellaneous, positive)]</td>\n",
       "      <td>[]</td>\n",
       "    </tr>\n",
       "    <tr>\n",
       "      <th>5</th>\n",
       "      <td>Not only was the food outstanding, but the lit...</td>\n",
       "      <td>[(food, positive), (perks, positive)]</td>\n",
       "      <td>[(food, positive), (service, positive)]</td>\n",
       "      <td>[food]</td>\n",
       "    </tr>\n",
       "    <tr>\n",
       "      <th>6</th>\n",
       "      <td>It is very overpriced and not very tasty.</td>\n",
       "      <td>[]</td>\n",
       "      <td>[(food, negative), (price, negative)]</td>\n",
       "      <td>[]</td>\n",
       "    </tr>\n",
       "    <tr>\n",
       "      <th>7</th>\n",
       "      <td>Our agreed favorite is the orrechiete with sau...</td>\n",
       "      <td>[(orrechiete with sausage and chicken, positiv...</td>\n",
       "      <td>[(food, positive), (service, positive)]</td>\n",
       "      <td>[favorite, orrechiete, sausage, chicken, dish,...</td>\n",
       "    </tr>\n",
       "    <tr>\n",
       "      <th>8</th>\n",
       "      <td>The Bagels have an outstanding taste with a te...</td>\n",
       "      <td>[(Bagels, positive)]</td>\n",
       "      <td>[(food, positive)]</td>\n",
       "      <td>[taste, texture]</td>\n",
       "    </tr>\n",
       "    <tr>\n",
       "      <th>9</th>\n",
       "      <td>Nevertheless the food itself is pretty good.</td>\n",
       "      <td>[(food, positive)]</td>\n",
       "      <td>[(food, positive)]</td>\n",
       "      <td>[food]</td>\n",
       "    </tr>\n",
       "  </tbody>\n",
       "</table>\n",
       "</div>"
      ],
      "text/plain": [
       "                                                text  \\\n",
       "0               But the staff was so horrible to us.   \n",
       "1  To be completely fair, the only redeeming fact...   \n",
       "2  The food is uniformly exceptional, with a very...   \n",
       "3  Where Gabriela personaly greets you and recomm...   \n",
       "4  For those that go once and don't enjoy it, all...   \n",
       "5  Not only was the food outstanding, but the lit...   \n",
       "6          It is very overpriced and not very tasty.   \n",
       "7  Our agreed favorite is the orrechiete with sau...   \n",
       "8  The Bagels have an outstanding taste with a te...   \n",
       "9       Nevertheless the food itself is pretty good.   \n",
       "\n",
       "                                               terms  \\\n",
       "0                                [(staff, negative)]   \n",
       "1                                 [(food, positive)]   \n",
       "2  [(food, positive), (kitchen, positive), (menu,...   \n",
       "3                                                 []   \n",
       "4                                                 []   \n",
       "5              [(food, positive), (perks, positive)]   \n",
       "6                                                 []   \n",
       "7  [(orrechiete with sausage and chicken, positiv...   \n",
       "8                               [(Bagels, positive)]   \n",
       "9                                 [(food, positive)]   \n",
       "\n",
       "                                             aspects  \\\n",
       "0                              [(service, negative)]   \n",
       "1  [(food, positive), (anecdotes/miscellaneous, n...   \n",
       "2                                 [(food, positive)]   \n",
       "3                              [(service, positive)]   \n",
       "4              [(anecdotes/miscellaneous, positive)]   \n",
       "5            [(food, positive), (service, positive)]   \n",
       "6              [(food, negative), (price, negative)]   \n",
       "7            [(food, positive), (service, positive)]   \n",
       "8                                 [(food, positive)]   \n",
       "9                                 [(food, positive)]   \n",
       "\n",
       "                              aspect_term_candidates  \n",
       "0                                            [staff]  \n",
       "1                                     [factor, food]  \n",
       "2                        [food, kitchen, food, menu]  \n",
       "3                                                 []  \n",
       "4                                                 []  \n",
       "5                                             [food]  \n",
       "6                                                 []  \n",
       "7  [favorite, orrechiete, sausage, chicken, dish,...  \n",
       "8                                   [taste, texture]  \n",
       "9                                             [food]  "
      ]
     },
     "execution_count": 48,
     "metadata": {},
     "output_type": "execute_result"
    }
   ],
   "source": [
    "df.head(10)"
   ]
  },
  {
   "cell_type": "code",
   "execution_count": 49,
   "metadata": {},
   "outputs": [
    {
     "data": {
      "text/plain": [
       "('But the staff was so horrible to us.', {'service': -1})"
      ]
     },
     "execution_count": 49,
     "metadata": {},
     "output_type": "execute_result"
    }
   ],
   "source": [
    "df.text.iloc[0], sent_analyser.analyse(df.text.iloc[0])"
   ]
  },
  {
   "cell_type": "code",
   "execution_count": 50,
   "metadata": {},
   "outputs": [
    {
     "data": {
      "text/plain": [
       "(\"To be completely fair, the only redeeming factor was the food, which was above average, but couldn't make up for all the other deficiencies of Teodora.\",\n",
       " {'price': 1})"
      ]
     },
     "execution_count": 50,
     "metadata": {},
     "output_type": "execute_result"
    }
   ],
   "source": [
    "df.text.iloc[1], sent_analyser.analyse(df.text.iloc[1])"
   ]
  },
  {
   "cell_type": "code",
   "execution_count": 51,
   "metadata": {},
   "outputs": [
    {
     "data": {
      "text/plain": [
       "(\"The food is uniformly exceptional, with a very capable kitchen which will proudly whip up whatever you feel like eating, whether The food's on the menu or not.\",\n",
       " {'food': 2})"
      ]
     },
     "execution_count": 51,
     "metadata": {},
     "output_type": "execute_result"
    }
   ],
   "source": [
    "df.text.iloc[2], sent_analyser.analyse(df.text.iloc[2])"
   ]
  },
  {
   "cell_type": "code",
   "execution_count": 52,
   "metadata": {},
   "outputs": [
    {
     "data": {
      "text/plain": [
       "('Where Gabriela personaly greets you and recommends you what to eat.', {})"
      ]
     },
     "execution_count": 52,
     "metadata": {},
     "output_type": "execute_result"
    }
   ],
   "source": [
    "df.text.iloc[3], sent_analyser.analyse(df.text.iloc[3])"
   ]
  },
  {
   "cell_type": "code",
   "execution_count": 53,
   "metadata": {},
   "outputs": [
    {
     "data": {
      "text/plain": [
       "(\"For those that go once and don't enjoy it, all I can say is that those that go once and don't enjoy it just don't get it.\",\n",
       " {'food': -1})"
      ]
     },
     "execution_count": 53,
     "metadata": {},
     "output_type": "execute_result"
    }
   ],
   "source": [
    "df.text.iloc[4], sent_analyser.analyse(df.text.iloc[4])"
   ]
  },
  {
   "cell_type": "code",
   "execution_count": 54,
   "metadata": {},
   "outputs": [
    {
     "data": {
      "text/plain": [
       "(\"Not only was the food outstanding, but the little 'perks' were great.\",\n",
       " {'food': 1})"
      ]
     },
     "execution_count": 54,
     "metadata": {},
     "output_type": "execute_result"
    }
   ],
   "source": [
    "df.text.iloc[5], sent_analyser.analyse(df.text.iloc[5])"
   ]
  },
  {
   "cell_type": "code",
   "execution_count": 55,
   "metadata": {},
   "outputs": [
    {
     "data": {
      "text/plain": [
       "('Nevertheless the food itself is pretty good.', {'food': 1.5})"
      ]
     },
     "execution_count": 55,
     "metadata": {},
     "output_type": "execute_result"
    }
   ],
   "source": [
    "df.text.iloc[9], sent_analyser.analyse(df.text.iloc[9])"
   ]
  },
  {
   "cell_type": "markdown",
   "metadata": {},
   "source": [
    "# Evaluation of results"
   ]
  },
  {
   "cell_type": "markdown",
   "metadata": {},
   "source": [
    "We simply calculate confusion matrix values with custom functions to consider specific cases."
   ]
  },
  {
   "cell_type": "code",
   "execution_count": 56,
   "metadata": {},
   "outputs": [],
   "source": [
    "def convert_prediction(prediction):\n",
    "    return [\n",
    "        (\n",
    "            item if item!='miscellaneous' else 'anecdotes/miscellaneous', \"positive\" if value > 0 else 'neutral' if value==0 else \"negative\"\n",
    "        ) for item, value in prediction.items()\n",
    "    ]"
   ]
  },
  {
   "cell_type": "code",
   "execution_count": 57,
   "metadata": {},
   "outputs": [
    {
     "data": {
      "text/plain": [
       "[('anecdotes/miscellaneous', 'negative')]"
      ]
     },
     "execution_count": 57,
     "metadata": {},
     "output_type": "execute_result"
    }
   ],
   "source": [
    "convert_prediction({'miscellaneous': -1})"
   ]
  },
  {
   "cell_type": "code",
   "execution_count": 58,
   "metadata": {},
   "outputs": [
    {
     "data": {
      "text/plain": [
       "[('food', 'neutral')]"
      ]
     },
     "execution_count": 58,
     "metadata": {},
     "output_type": "execute_result"
    }
   ],
   "source": [
    "convert_prediction({'food': 0})"
   ]
  },
  {
   "cell_type": "code",
   "execution_count": 59,
   "metadata": {},
   "outputs": [],
   "source": [
    "def confusion_value(label, prediction):\n",
    "    result = None\n",
    "    if not label:\n",
    "        if not prediction:\n",
    "            result = 'TN'\n",
    "        else:\n",
    "            result = 'FP'\n",
    "    else:\n",
    "        if not prediction:\n",
    "            result = 'FN'\n",
    "        else:\n",
    "            converted_prediction = convert_prediction(prediction)\n",
    "            result = 'TP'\n",
    "            for item in label:\n",
    "                if item in converted_prediction or item[0] == 'anecdotes/miscellaneous':\n",
    "                    pass\n",
    "                else:\n",
    "                    result = 'FN'\n",
    "                    break\n",
    "        \n",
    "    return result"
   ]
  },
  {
   "cell_type": "code",
   "execution_count": 60,
   "metadata": {},
   "outputs": [],
   "source": [
    "def confusion_matrix_values(labels, predictions):\n",
    "    confusion_matrix = {}\n",
    "    \n",
    "    for label, prediction in zip(labels, predictions):\n",
    "        conf_value = confusion_value(label, prediction)\n",
    "        confusion_matrix[conf_value] = confusion_matrix.get(conf_value, 0) + 1\n",
    "    \n",
    "    return confusion_matrix"
   ]
  },
  {
   "cell_type": "code",
   "execution_count": 61,
   "metadata": {},
   "outputs": [
    {
     "data": {
      "text/plain": [
       "0                                [(service, negative)]\n",
       "1    [(food, positive), (anecdotes/miscellaneous, n...\n",
       "2                                   [(food, positive)]\n",
       "3                                [(service, positive)]\n",
       "4                [(anecdotes/miscellaneous, positive)]\n",
       "Name: aspects, dtype: object"
      ]
     },
     "execution_count": 61,
     "metadata": {},
     "output_type": "execute_result"
    }
   ],
   "source": [
    "df.aspects.head()"
   ]
  },
  {
   "cell_type": "code",
   "execution_count": 62,
   "metadata": {},
   "outputs": [
    {
     "data": {
      "text/plain": [
       "0    {'service': -1}\n",
       "1       {'price': 1}\n",
       "2        {'food': 2}\n",
       "3                 {}\n",
       "4       {'food': -1}\n",
       "dtype: object"
      ]
     },
     "execution_count": 62,
     "metadata": {},
     "output_type": "execute_result"
    }
   ],
   "source": [
    "pd.Series(sent_analyser.analyse(text) for text in df.text.head())"
   ]
  },
  {
   "cell_type": "code",
   "execution_count": 73,
   "metadata": {
    "scrolled": true
   },
   "outputs": [],
   "source": [
    "df.loc[:, 'aspect_predictions'] = df.text.apply(sent_analyser.analyse)"
   ]
  },
  {
   "cell_type": "code",
   "execution_count": 64,
   "metadata": {},
   "outputs": [],
   "source": [
    "conf_matrix = confusion_matrix_values(df.aspects.values.tolist(), df.aspect_predictions.values.tolist())"
   ]
  },
  {
   "cell_type": "code",
   "execution_count": 65,
   "metadata": {},
   "outputs": [
    {
     "data": {
      "text/plain": [
       "{'TP': 817, 'FN': 2227}"
      ]
     },
     "execution_count": 65,
     "metadata": {},
     "output_type": "execute_result"
    }
   ],
   "source": [
    "conf_matrix"
   ]
  },
  {
   "cell_type": "markdown",
   "metadata": {},
   "source": [
    "As we see we don't have false positive cases and true negative cases. That can be simply explained. False positive isn't available because we are using fixed set of opinion words which keeps us from using false opinion words. Also we are lacking of text samples without classified sentiments.\n",
    "\n",
    "Accuracy of our system is quite low but we have 100% precision and just recall is low. It can be improved with more advanced approaches. Here we used simplest possible approach which is easily adaptable to any case and what we need to make this work is to list aspect categories."
   ]
  },
  {
   "cell_type": "markdown",
   "metadata": {},
   "source": [
    "# Visualize Aspect Based Sentiment Analysis Results"
   ]
  },
  {
   "cell_type": "markdown",
   "metadata": {},
   "source": [
    "Visualisation of aspect sentiments is done with positive, neutral and negative cases only (`contradiction` categories are missing to avoid misconfusions)"
   ]
  },
  {
   "cell_type": "code",
   "execution_count": 67,
   "metadata": {},
   "outputs": [],
   "source": [
    "def summary_aspect_based_sentiment_analysis(predictions):\n",
    "    summary = {}\n",
    "    for prediction in predictions:\n",
    "        if prediction:\n",
    "            for aspect, sentiment in convert_prediction(prediction):\n",
    "                if aspect not in summary:\n",
    "                    summary[aspect] = {}\n",
    "\n",
    "                summary[aspect][sentiment] = summary[aspect].get(sentiment, 0) + 1\n",
    "    \n",
    "    return summary"
   ]
  },
  {
   "cell_type": "code",
   "execution_count": 68,
   "metadata": {},
   "outputs": [],
   "source": [
    "summary = summary_aspect_based_sentiment_analysis(df.aspect_predictions.values.tolist())"
   ]
  },
  {
   "cell_type": "code",
   "execution_count": 69,
   "metadata": {},
   "outputs": [
    {
     "data": {
      "text/plain": [
       "{'service': {'negative': 95, 'positive': 298, 'neutral': 3},\n",
       " 'price': {'positive': 105, 'negative': 36, 'neutral': 1},\n",
       " 'food': {'positive': 817, 'negative': 188, 'neutral': 38},\n",
       " 'ambience': {'positive': 145, 'negative': 28, 'neutral': 2},\n",
       " 'anecdotes/miscellaneous': {'negative': 2, 'positive': 4}}"
      ]
     },
     "execution_count": 69,
     "metadata": {},
     "output_type": "execute_result"
    }
   ],
   "source": [
    "summary"
   ]
  },
  {
   "cell_type": "code",
   "execution_count": 70,
   "metadata": {},
   "outputs": [
    {
     "data": {
      "text/plain": [
       "<Figure size 1008x1008 with 0 Axes>"
      ]
     },
     "metadata": {},
     "output_type": "display_data"
    },
    {
     "data": {
      "image/png": "[encoded data removed]",
      "text/plain": [
       "<Figure size 432x288 with 1 Axes>"
      ]
     },
     "metadata": {
      "needs_background": "light"
     },
     "output_type": "display_data"
    }
   ],
   "source": [
    "plt.figure(figsize=(14,14));\n",
    "pd.DataFrame(summary).T.plot(kind='bar', title='Aspect Based Sentiment Analysis');"
   ]
  },
  {
   "cell_type": "markdown",
   "metadata": {},
   "source": [
    "# References"
   ]
  },
  {
   "cell_type": "markdown",
   "metadata": {},
   "source": [
    "[Nika Kvedelidze Sample Project at MaxinAI](https://github.com/LFCapollo/Aspect-Based-Sentiment-Analysis)\n",
    "\n",
    "[Intellica.AI - ABSA blog](https://medium.com/@Intellica.AI/aspect-based-sentiment-analysis-everything-you-wanted-to-know-1be41572e238)\n",
    "\n",
    "[remicnrd - ABSA blog](https://remicnrd.github.io/Aspect-based-sentiment-analysis) - ideas"
   ]
  }
 ],
 "metadata": {
  "kernelspec": {
   "display_name": "Python 3",
   "language": "python",
   "name": "python3"
  },
  "language_info": {
   "codemirror_mode": {
    "name": "ipython",
    "version": 3
   },
   "file_extension": ".py",
   "mimetype": "text/x-python",
   "name": "python",
   "nbconvert_exporter": "python",
   "pygments_lexer": "ipython3",
   "version": "3.7.0"
  },
  "toc": {
   "base_numbering": 1,
   "nav_menu": {},
   "number_sections": true,
   "sideBar": true,
   "skip_h1_title": false,
   "title_cell": "Table of Contents",
   "title_sidebar": "Contents",
   "toc_cell": false,
   "toc_position": {},
   "toc_section_display": true,
   "toc_window_display": false
  },
  "varInspector": {
   "cols": {
    "lenName": 16,
    "lenType": 16,
    "lenVar": 40
   },
   "kernels_config": {
    "python": {
     "delete_cmd_postfix": "",
     "delete_cmd_prefix": "del ",
     "library": "var_list.py",
     "varRefreshCmd": "print(var_dic_list())"
    },
    "r": {
     "delete_cmd_postfix": ") ",
     "delete_cmd_prefix": "rm(",
     "library": "var_list.r",
     "varRefreshCmd": "cat(var_dic_list()) "
    }
   },
   "types_to_exclude": [
    "module",
    "function",
    "builtin_function_or_method",
    "instance",
    "_Feature"
   ],
   "window_display": false
  }
 },
 "nbformat": 4,
 "nbformat_minor": 2
}
