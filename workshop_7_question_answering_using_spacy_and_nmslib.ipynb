{
 "cells": [
  {
   "cell_type": "markdown",
   "metadata": {},
   "source": [
    "# Question Answering using spaCy and Nmslib"
   ]
  },
  {
   "cell_type": "markdown",
   "metadata": {},
   "source": [
    "Introducing simplest question answering example which uses text embeddings and vector similarity search based method for searching similar questions to user input and then get answer for that question. \n",
    "\n",
    "- spaCy is natural language processing library which is quite popular, easy to use and understand. It provides text embeddings (averages word embeddings like word2vec and GloVe to get text embedding). see more [here](https://spacy.io/) and [here](https://spacy.io/usage/spacy-101) and also in their [course](https://course.spacy.io/en/)\n",
    "\n",
    "- nmslib is fast vector search engine like faiss which uses approximate nearest neighbour search algorithm which is very fast (search in millions of records in one second or less). see more [here](https://github.com/nmslib/nmslib)   "
   ]
  },
  {
   "cell_type": "markdown",
   "metadata": {},
   "source": [
    "# Imports"
   ]
  },
  {
   "cell_type": "code",
   "execution_count": 1,
   "metadata": {},
   "outputs": [],
   "source": [
    "%load_ext autoreload\n",
    "%autoreload 2\n",
    "\n",
    "%matplotlib inline"
   ]
  },
  {
   "cell_type": "code",
   "execution_count": 2,
   "metadata": {},
   "outputs": [
    {
     "name": "stdout",
     "output_type": "stream",
     "text": [
      "Requirement already satisfied: spacy in /Users/anz2/anaconda3/envs/school/lib/python3.7/site-packages (2.3.0)\n",
      "Requirement already satisfied: plac<1.2.0,>=0.9.6 in /Users/anz2/anaconda3/envs/school/lib/python3.7/site-packages (from spacy) (1.1.3)\n",
      "Requirement already satisfied: tqdm<5.0.0,>=4.38.0 in /Users/anz2/anaconda3/envs/school/lib/python3.7/site-packages (from spacy) (4.46.1)\n",
      "Requirement already satisfied: murmurhash<1.1.0,>=0.28.0 in /Users/anz2/anaconda3/envs/school/lib/python3.7/site-packages (from spacy) (1.0.2)\n",
      "Requirement already satisfied: setuptools in /Users/anz2/anaconda3/envs/school/lib/python3.7/site-packages (from spacy) (41.6.0.post20191030)\n",
      "Requirement already satisfied: preshed<3.1.0,>=3.0.2 in /Users/anz2/anaconda3/envs/school/lib/python3.7/site-packages (from spacy) (3.0.2)\n",
      "Requirement already satisfied: blis<0.5.0,>=0.4.0 in /Users/anz2/anaconda3/envs/school/lib/python3.7/site-packages (from spacy) (0.4.1)\n",
      "Requirement already satisfied: cymem<2.1.0,>=2.0.2 in /Users/anz2/anaconda3/envs/school/lib/python3.7/site-packages (from spacy) (2.0.3)\n",
      "Requirement already satisfied: catalogue<1.1.0,>=0.0.7 in /Users/anz2/anaconda3/envs/school/lib/python3.7/site-packages (from spacy) (1.0.0)\n",
      "Requirement already satisfied: requests<3.0.0,>=2.13.0 in /Users/anz2/anaconda3/envs/school/lib/python3.7/site-packages (from spacy) (2.24.0)\n",
      "Requirement already satisfied: numpy>=1.15.0 in /Users/anz2/anaconda3/envs/school/lib/python3.7/site-packages (from spacy) (1.17.3)\n",
      "Requirement already satisfied: thinc==7.4.1 in /Users/anz2/anaconda3/envs/school/lib/python3.7/site-packages (from spacy) (7.4.1)\n",
      "Requirement already satisfied: wasabi<1.1.0,>=0.4.0 in /Users/anz2/anaconda3/envs/school/lib/python3.7/site-packages (from spacy) (0.7.0)\n",
      "Requirement already satisfied: srsly<1.1.0,>=1.0.2 in /Users/anz2/anaconda3/envs/school/lib/python3.7/site-packages (from spacy) (1.0.2)\n",
      "Requirement already satisfied: importlib-metadata>=0.20; python_version < \"3.8\" in /Users/anz2/anaconda3/envs/school/lib/python3.7/site-packages (from catalogue<1.1.0,>=0.0.7->spacy) (0.23)\n",
      "Requirement already satisfied: idna<3,>=2.5 in /Users/anz2/anaconda3/envs/school/lib/python3.7/site-packages (from requests<3.0.0,>=2.13.0->spacy) (2.9)\n",
      "Requirement already satisfied: chardet<4,>=3.0.2 in /Users/anz2/anaconda3/envs/school/lib/python3.7/site-packages (from requests<3.0.0,>=2.13.0->spacy) (3.0.4)\n",
      "Requirement already satisfied: certifi>=2017.4.17 in /Users/anz2/anaconda3/envs/school/lib/python3.7/site-packages (from requests<3.0.0,>=2.13.0->spacy) (2019.9.11)\n",
      "Requirement already satisfied: urllib3!=1.25.0,!=1.25.1,<1.26,>=1.21.1 in /Users/anz2/anaconda3/envs/school/lib/python3.7/site-packages (from requests<3.0.0,>=2.13.0->spacy) (1.25.9)\n",
      "Requirement already satisfied: zipp>=0.5 in /Users/anz2/anaconda3/envs/school/lib/python3.7/site-packages (from importlib-metadata>=0.20; python_version < \"3.8\"->catalogue<1.1.0,>=0.0.7->spacy) (0.6.0)\n",
      "Requirement already satisfied: more-itertools in /Users/anz2/anaconda3/envs/school/lib/python3.7/site-packages (from zipp>=0.5->importlib-metadata>=0.20; python_version < \"3.8\"->catalogue<1.1.0,>=0.0.7->spacy) (7.2.0)\n",
      "Requirement already satisfied: nmslib in /Users/anz2/anaconda3/envs/school/lib/python3.7/site-packages (2.0.6)\n",
      "Requirement already satisfied: psutil in /Users/anz2/anaconda3/envs/school/lib/python3.7/site-packages (from nmslib) (5.7.0)\n",
      "Requirement already satisfied: numpy>=1.10.0 in /Users/anz2/anaconda3/envs/school/lib/python3.7/site-packages (from nmslib) (1.17.3)\n",
      "Requirement already satisfied: pybind11>=2.2.3 in /Users/anz2/anaconda3/envs/school/lib/python3.7/site-packages (from nmslib) (2.5.0)\n",
      "Collecting en_core_web_lg==2.3.0\n",
      "\u001b[?25l  Downloading https://github.com/explosion/spacy-models/releases/download/en_core_web_lg-2.3.0/en_core_web_lg-2.3.0.tar.gz (782.7MB)\n",
      "\u001b[K     |████████████████████████████████| 782.7MB 4.8MB/s eta 0:00:011\n",
      "\u001b[?25hRequirement already satisfied: spacy<2.4.0,>=2.3.0 in /Users/anz2/anaconda3/envs/school/lib/python3.7/site-packages (from en_core_web_lg==2.3.0) (2.3.0)\n",
      "Requirement already satisfied: catalogue<1.1.0,>=0.0.7 in /Users/anz2/anaconda3/envs/school/lib/python3.7/site-packages (from spacy<2.4.0,>=2.3.0->en_core_web_lg==2.3.0) (1.0.0)\n",
      "Requirement already satisfied: wasabi<1.1.0,>=0.4.0 in /Users/anz2/anaconda3/envs/school/lib/python3.7/site-packages (from spacy<2.4.0,>=2.3.0->en_core_web_lg==2.3.0) (0.7.0)\n",
      "Requirement already satisfied: plac<1.2.0,>=0.9.6 in /Users/anz2/anaconda3/envs/school/lib/python3.7/site-packages (from spacy<2.4.0,>=2.3.0->en_core_web_lg==2.3.0) (1.1.3)\n",
      "Requirement already satisfied: tqdm<5.0.0,>=4.38.0 in /Users/anz2/anaconda3/envs/school/lib/python3.7/site-packages (from spacy<2.4.0,>=2.3.0->en_core_web_lg==2.3.0) (4.46.1)\n",
      "Requirement already satisfied: thinc==7.4.1 in /Users/anz2/anaconda3/envs/school/lib/python3.7/site-packages (from spacy<2.4.0,>=2.3.0->en_core_web_lg==2.3.0) (7.4.1)\n",
      "Requirement already satisfied: preshed<3.1.0,>=3.0.2 in /Users/anz2/anaconda3/envs/school/lib/python3.7/site-packages (from spacy<2.4.0,>=2.3.0->en_core_web_lg==2.3.0) (3.0.2)\n",
      "Requirement already satisfied: blis<0.5.0,>=0.4.0 in /Users/anz2/anaconda3/envs/school/lib/python3.7/site-packages (from spacy<2.4.0,>=2.3.0->en_core_web_lg==2.3.0) (0.4.1)\n",
      "Requirement already satisfied: requests<3.0.0,>=2.13.0 in /Users/anz2/anaconda3/envs/school/lib/python3.7/site-packages (from spacy<2.4.0,>=2.3.0->en_core_web_lg==2.3.0) (2.24.0)\n",
      "Requirement already satisfied: srsly<1.1.0,>=1.0.2 in /Users/anz2/anaconda3/envs/school/lib/python3.7/site-packages (from spacy<2.4.0,>=2.3.0->en_core_web_lg==2.3.0) (1.0.2)\n",
      "Requirement already satisfied: setuptools in /Users/anz2/anaconda3/envs/school/lib/python3.7/site-packages (from spacy<2.4.0,>=2.3.0->en_core_web_lg==2.3.0) (41.6.0.post20191030)\n",
      "Requirement already satisfied: numpy>=1.15.0 in /Users/anz2/anaconda3/envs/school/lib/python3.7/site-packages (from spacy<2.4.0,>=2.3.0->en_core_web_lg==2.3.0) (1.17.3)\n",
      "Requirement already satisfied: cymem<2.1.0,>=2.0.2 in /Users/anz2/anaconda3/envs/school/lib/python3.7/site-packages (from spacy<2.4.0,>=2.3.0->en_core_web_lg==2.3.0) (2.0.3)\n",
      "Requirement already satisfied: murmurhash<1.1.0,>=0.28.0 in /Users/anz2/anaconda3/envs/school/lib/python3.7/site-packages (from spacy<2.4.0,>=2.3.0->en_core_web_lg==2.3.0) (1.0.2)\n",
      "Requirement already satisfied: importlib-metadata>=0.20; python_version < \"3.8\" in /Users/anz2/anaconda3/envs/school/lib/python3.7/site-packages (from catalogue<1.1.0,>=0.0.7->spacy<2.4.0,>=2.3.0->en_core_web_lg==2.3.0) (0.23)\n",
      "Requirement already satisfied: urllib3!=1.25.0,!=1.25.1,<1.26,>=1.21.1 in /Users/anz2/anaconda3/envs/school/lib/python3.7/site-packages (from requests<3.0.0,>=2.13.0->spacy<2.4.0,>=2.3.0->en_core_web_lg==2.3.0) (1.25.9)\n",
      "Requirement already satisfied: chardet<4,>=3.0.2 in /Users/anz2/anaconda3/envs/school/lib/python3.7/site-packages (from requests<3.0.0,>=2.13.0->spacy<2.4.0,>=2.3.0->en_core_web_lg==2.3.0) (3.0.4)\n",
      "Requirement already satisfied: idna<3,>=2.5 in /Users/anz2/anaconda3/envs/school/lib/python3.7/site-packages (from requests<3.0.0,>=2.13.0->spacy<2.4.0,>=2.3.0->en_core_web_lg==2.3.0) (2.9)\n",
      "Requirement already satisfied: certifi>=2017.4.17 in /Users/anz2/anaconda3/envs/school/lib/python3.7/site-packages (from requests<3.0.0,>=2.13.0->spacy<2.4.0,>=2.3.0->en_core_web_lg==2.3.0) (2019.9.11)\n",
      "Requirement already satisfied: zipp>=0.5 in /Users/anz2/anaconda3/envs/school/lib/python3.7/site-packages (from importlib-metadata>=0.20; python_version < \"3.8\"->catalogue<1.1.0,>=0.0.7->spacy<2.4.0,>=2.3.0->en_core_web_lg==2.3.0) (0.6.0)\n",
      "Requirement already satisfied: more-itertools in /Users/anz2/anaconda3/envs/school/lib/python3.7/site-packages (from zipp>=0.5->importlib-metadata>=0.20; python_version < \"3.8\"->catalogue<1.1.0,>=0.0.7->spacy<2.4.0,>=2.3.0->en_core_web_lg==2.3.0) (7.2.0)\n",
      "Building wheels for collected packages: en-core-web-lg\n",
      "  Building wheel for en-core-web-lg (setup.py) ... \u001b[?25ldone\n",
      "\u001b[?25h  Created wheel for en-core-web-lg: filename=en_core_web_lg-2.3.0-cp37-none-any.whl size=782931392 sha256=418c695d360df504742be85ba517bb715e7ee8e9909e69399c1c9b7b92b7df50\n",
      "  Stored in directory: /private/var/folders/t2/72xb54sx38d48l3rgd_9qy4m0000gn/T/pip-ephem-wheel-cache-27u9pu5r/wheels/75/27/ff/04e56916ef31a537960f4f4f857b224edd4cd997227c27686c\n"
     ]
    },
    {
     "name": "stdout",
     "output_type": "stream",
     "text": [
      "Successfully built en-core-web-lg\n",
      "Installing collected packages: en-core-web-lg\n",
      "Successfully installed en-core-web-lg-2.3.0\n",
      "\u001b[38;5;2m✔ Download and installation successful\u001b[0m\n",
      "You can now load the model via spacy.load('en_core_web_lg')\n"
     ]
    }
   ],
   "source": [
    "!pip install spacy\n",
    "!pip install nmslib\n",
    "!python -m spacy download en_core_web_lg"
   ]
  },
  {
   "cell_type": "code",
   "execution_count": 3,
   "metadata": {},
   "outputs": [],
   "source": [
    "import pandas as pd\n",
    "import os\n",
    "import json\n",
    "import re\n",
    "import spacy\n",
    "import nmslib"
   ]
  },
  {
   "cell_type": "markdown",
   "metadata": {},
   "source": [
    "# Read table csv file"
   ]
  },
  {
   "cell_type": "code",
   "execution_count": 5,
   "metadata": {},
   "outputs": [
    {
     "name": "stdout",
     "output_type": "stream",
     "text": [
      "Warning: Failed to set locale category LC_NUMERIC to en_GE.\n",
      "Warning: Failed to set locale category LC_TIME to en_GE.\n",
      "Warning: Failed to set locale category LC_COLLATE to en_GE.\n",
      "Warning: Failed to set locale category LC_MONETARY to en_GE.\n",
      "Warning: Failed to set locale category LC_MESSAGES to en_GE.\n",
      "--2020-06-26 12:57:09--  https://raw.githubusercontent.com/AnzorGozalishvili/QA_using_spacy_and_nmslib/master/data/sample_qa_data.csv\n",
      "Resolving raw.githubusercontent.com (raw.githubusercontent.com)... 151.101.0.133, 151.101.64.133, 151.101.128.133, ...\n",
      "Connecting to raw.githubusercontent.com (raw.githubusercontent.com)|151.101.0.133|:443... connected.\n",
      "HTTP request sent, awaiting response... 200 OK\n",
      "Length: 7198 (7.0K) [text/plain]\n",
      "Saving to: ‘sample_qa_data.csv’\n",
      "\n",
      "sample_qa_data.csv  100%[===================>]   7.03K  --.-KB/s    in 0s      \n",
      "\n",
      "2020-06-26 12:57:09 (23.5 MB/s) - ‘sample_qa_data.csv’ saved [7198/7198]\n",
      "\n"
     ]
    }
   ],
   "source": [
    "!wget https://raw.githubusercontent.com/AnzorGozalishvili/QA_using_spacy_and_nmslib/master/data/sample_qa_data.csv"
   ]
  },
  {
   "cell_type": "code",
   "execution_count": 6,
   "metadata": {
    "scrolled": true
   },
   "outputs": [],
   "source": [
    "data = pd.read_csv('sample_qa_data.csv', index_col=0)"
   ]
  },
  {
   "cell_type": "code",
   "execution_count": 7,
   "metadata": {},
   "outputs": [],
   "source": [
    "!rm -rf sample_qa_data.csv"
   ]
  },
  {
   "cell_type": "code",
   "execution_count": 8,
   "metadata": {},
   "outputs": [
    {
     "data": {
      "text/html": [
       "<div>\n",
       "<style scoped>\n",
       "    .dataframe tbody tr th:only-of-type {\n",
       "        vertical-align: middle;\n",
       "    }\n",
       "\n",
       "    .dataframe tbody tr th {\n",
       "        vertical-align: top;\n",
       "    }\n",
       "\n",
       "    .dataframe thead th {\n",
       "        text-align: right;\n",
       "    }\n",
       "</style>\n",
       "<table border=\"1\" class=\"dataframe\">\n",
       "  <thead>\n",
       "    <tr style=\"text-align: right;\">\n",
       "      <th></th>\n",
       "      <th>question</th>\n",
       "      <th>answer</th>\n",
       "    </tr>\n",
       "  </thead>\n",
       "  <tbody>\n",
       "    <tr>\n",
       "      <th>0</th>\n",
       "      <td>Carl and the Passions changed band name to what</td>\n",
       "      <td>Beach Boys</td>\n",
       "    </tr>\n",
       "    <tr>\n",
       "      <th>1</th>\n",
       "      <td>How many rings on the Olympic flag</td>\n",
       "      <td>Five</td>\n",
       "    </tr>\n",
       "  </tbody>\n",
       "</table>\n",
       "</div>"
      ],
      "text/plain": [
       "                                          question      answer\n",
       "0  Carl and the Passions changed band name to what  Beach Boys\n",
       "1               How many rings on the Olympic flag        Five"
      ]
     },
     "execution_count": 8,
     "metadata": {},
     "output_type": "execute_result"
    }
   ],
   "source": [
    "data.head(2)"
   ]
  },
  {
   "cell_type": "markdown",
   "metadata": {},
   "source": [
    "# Create QA model class"
   ]
  },
  {
   "cell_type": "code",
   "execution_count": 9,
   "metadata": {},
   "outputs": [],
   "source": [
    "class QA(object):\n",
    "    def __init__(self, data):\n",
    "        self.nlp = spacy.load('en_core_web_lg')\n",
    "        self.questions = data.question.tolist()\n",
    "        self.answers = data.answer.tolist()\n",
    "    \n",
    "    def to_vectors(self, texts):\n",
    "        \"\"\"Convert texts into their vectors\"\"\"\n",
    "        result = []\n",
    "        for item in texts:\n",
    "            result.append(self.nlp(item).vector)\n",
    "        \n",
    "        return result\n",
    "            \n",
    "    def build_nmslib_index(self):\n",
    "        \"\"\"build nmslib index with vectors of question texts\"\"\"\n",
    "        self.index = {}\n",
    "        self.index = nmslib.init(method='hnsw', space='cosinesimil')\n",
    "        self.index.addDataPointBatch(self.to_vectors(self.questions))\n",
    "        self.index.createIndex({'post': 2}, print_progress=True)\n",
    "        \n",
    "    def search(self, text, max_distance=0.2):\n",
    "        \"\"\"\n",
    "        K-Nearest-Neighbour search over indexed taxonomy data and distance threshold parameter \n",
    "        to get most similar one. \n",
    "        Args:\n",
    "            text: (str) sample question text\n",
    "            max_distance: (float) maximum allowed distance for neighbours\n",
    "\n",
    "        Returns:\n",
    "            result: (tuple) index and distance for found item\n",
    "\n",
    "        \"\"\"\n",
    "        result = {}\n",
    "        vector = self.nlp(text).vector\n",
    "        \n",
    "        if vector is not None:\n",
    "            ids, distances = self.index.knnQuery(vector)\n",
    "            \n",
    "            if ids is not None and distances is not None:\n",
    "                best_indices_mask = (distances == distances.min()) & (distances < max_distance)\n",
    "                if best_indices_mask.sum() != 0:\n",
    "                    result = {'index': ids[best_indices_mask][0], 'distance': distances[best_indices_mask][0]}\n",
    "\n",
    "        return result\n",
    "    \n",
    "    def query(self, question, max_distance=0.2):\n",
    "        search_result = self.search(question, max_distance)\n",
    "        index, distance = search_result.get('index', -1), search_result.get('distance', -1)\n",
    "        result = \"N/A\"\n",
    "        if index != -1:\n",
    "            result = self.answers[index]\n",
    "        \n",
    "        return result"
   ]
  },
  {
   "cell_type": "code",
   "execution_count": 10,
   "metadata": {},
   "outputs": [],
   "source": [
    "qa = QA(data)\n",
    "qa.build_nmslib_index()"
   ]
  },
  {
   "cell_type": "code",
   "execution_count": 11,
   "metadata": {},
   "outputs": [
    {
     "data": {
      "text/plain": [
       "'Beach Boys'"
      ]
     },
     "execution_count": 11,
     "metadata": {},
     "output_type": "execute_result"
    }
   ],
   "source": [
    "qa.query('Carl and the Passions day changed band name to what', max_distance=0.05)"
   ]
  },
  {
   "cell_type": "code",
   "execution_count": 12,
   "metadata": {},
   "outputs": [
    {
     "data": {
      "text/html": [
       "<div>\n",
       "<style scoped>\n",
       "    .dataframe tbody tr th:only-of-type {\n",
       "        vertical-align: middle;\n",
       "    }\n",
       "\n",
       "    .dataframe tbody tr th {\n",
       "        vertical-align: top;\n",
       "    }\n",
       "\n",
       "    .dataframe thead th {\n",
       "        text-align: right;\n",
       "    }\n",
       "</style>\n",
       "<table border=\"1\" class=\"dataframe\">\n",
       "  <thead>\n",
       "    <tr style=\"text-align: right;\">\n",
       "      <th></th>\n",
       "      <th>question</th>\n",
       "      <th>answer</th>\n",
       "    </tr>\n",
       "  </thead>\n",
       "  <tbody>\n",
       "    <tr>\n",
       "      <th>0</th>\n",
       "      <td>Carl and the Passions changed band name to what</td>\n",
       "      <td>Beach Boys</td>\n",
       "    </tr>\n",
       "    <tr>\n",
       "      <th>1</th>\n",
       "      <td>How many rings on the Olympic flag</td>\n",
       "      <td>Five</td>\n",
       "    </tr>\n",
       "  </tbody>\n",
       "</table>\n",
       "</div>"
      ],
      "text/plain": [
       "                                          question      answer\n",
       "0  Carl and the Passions changed band name to what  Beach Boys\n",
       "1               How many rings on the Olympic flag        Five"
      ]
     },
     "execution_count": 12,
     "metadata": {},
     "output_type": "execute_result"
    }
   ],
   "source": [
    "data.head(2)"
   ]
  },
  {
   "cell_type": "code",
   "execution_count": 13,
   "metadata": {},
   "outputs": [],
   "source": [
    "preds = data.question.apply(lambda x: qa.query(x))"
   ]
  }
 ],
 "metadata": {
  "kernelspec": {
   "display_name": "Python 3",
   "language": "python",
   "name": "python3"
  },
  "language_info": {
   "codemirror_mode": {
    "name": "ipython",
    "version": 3
   },
   "file_extension": ".py",
   "mimetype": "text/x-python",
   "name": "python",
   "nbconvert_exporter": "python",
   "pygments_lexer": "ipython3",
   "version": "3.7.0"
  },
  "toc": {
   "base_numbering": 1,
   "nav_menu": {},
   "number_sections": true,
   "sideBar": true,
   "skip_h1_title": false,
   "title_cell": "Table of Contents",
   "title_sidebar": "Contents",
   "toc_cell": false,
   "toc_position": {},
   "toc_section_display": true,
   "toc_window_display": false
  },
  "varInspector": {
   "cols": {
    "lenName": 16,
    "lenType": 16,
    "lenVar": 40
   },
   "kernels_config": {
    "python": {
     "delete_cmd_postfix": "",
     "delete_cmd_prefix": "del ",
     "library": "var_list.py",
     "varRefreshCmd": "print(var_dic_list())"
    },
    "r": {
     "delete_cmd_postfix": ") ",
     "delete_cmd_prefix": "rm(",
     "library": "var_list.r",
     "varRefreshCmd": "cat(var_dic_list()) "
    }
   },
   "types_to_exclude": [
    "module",
    "function",
    "builtin_function_or_method",
    "instance",
    "_Feature"
   ],
   "window_display": false
  }
 },
 "nbformat": 4,
 "nbformat_minor": 2
}
