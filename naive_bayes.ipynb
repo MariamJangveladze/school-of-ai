{
 "cells": [
  {
   "cell_type": "code",
   "execution_count": null,
   "metadata": {
    "slideshow": {
     "slide_type": "slide"
    }
   },
   "outputs": [],
   "source": [
    "%load_ext autoreload\n",
    "%autoreload 2\n",
    "\n",
    "%matplotlib inline"
   ]
  },
  {
   "cell_type": "markdown",
   "metadata": {
    "cell_style": "center",
    "slideshow": {
     "slide_type": "slide"
    }
   },
   "source": [
    "# Naive Baye's Classifier"
   ]
  },
  {
   "cell_type": "markdown",
   "metadata": {
    "slideshow": {
     "slide_type": "slide"
    }
   },
   "source": [
    "Naive Baye's classifier is based on Baye's theorem and is used for classification problems. For instance in NLP text classification: topic modeling, sentiment analysis, spam detection etc"
   ]
  },
  {
   "cell_type": "markdown",
   "metadata": {
    "slideshow": {
     "slide_type": "slide"
    }
   },
   "source": [
    "## Bayes' theorem:"
   ]
  },
  {
   "cell_type": "markdown",
   "metadata": {
    "slideshow": {
     "slide_type": "slide"
    }
   },
   "source": [
    "Partition of set $X$ on subsets $\\{A_i \\subset X|I \\in I\\}$ is $X = \\bigcup_{i \\in I}A_i$ and $A_i \\cap A_j = \\emptyset$ for every pair $i,j \\in I$"
   ]
  },
  {
   "cell_type": "markdown",
   "metadata": {
    "slideshow": {
     "slide_type": "slide"
    }
   },
   "source": [
    "For each subset $A \\subset X$ we have partition $X = A \\cup A^c$"
   ]
  },
  {
   "cell_type": "markdown",
   "metadata": {
    "heading_collapsed": true,
    "slideshow": {
     "slide_type": "slide"
    }
   },
   "source": [
    "#### Total probability theorem:\n",
    "For every partition $A_1, A_2 \\dots, A_k$ of $\\Omega$ and event $B \\subset \\Omega$:\n",
    "$$P(B) = \\sum_{i=1}^{k}P(B|A_i)P(A_i)$$"
   ]
  },
  {
   "cell_type": "markdown",
   "metadata": {
    "slideshow": {
     "slide_type": "slide"
    }
   },
   "source": [
    "#### Theorem (Bayes' theorem):\n",
    "Let $A_1, A_2 \\dots, A_k$ be a partition of $\\Omega$ such that $P(A_i) > 0$ for each $i \\in \\{1, 2, \\dots, k\\}$. Then for $B \\subset \\Omega$ event, such that $P(B) > 0$, for each $i \\in \\{1, 2, \\dots, k\\}$:\n",
    "$$\n",
    "P(A_i|B) = \\frac{P(B|A_i)P(A_i)}{\\sum_{j=1}^{k}P(B|A_j)P(A_j)}\n",
    "$$"
   ]
  },
  {
   "cell_type": "markdown",
   "metadata": {
    "slideshow": {
     "slide_type": "slide"
    }
   },
   "source": [
    "#### Note:\n",
    "We call $P(A_i)$ the prior probability and $P(A_i|B)$ the posterior probability"
   ]
  },
  {
   "cell_type": "markdown",
   "metadata": {
    "slideshow": {
     "slide_type": "slide"
    }
   },
   "source": [
    "For the events $A$ and $B$ such that $P(B) \\gt 0$ we have:\n",
    "$$\n",
    "P(A|B) = \\frac{P(B|A)P(A)}{P(B)}\n",
    "$$\n",
    "<br>\n",
    "We can consider the partition of $\\Omega$ on $A$ and $A^c$, the from Byes' theorem we have:\n",
    "$$\n",
    "P(A|B) = \\frac{P(B|A)P(A)}{P(B|A)P(A) + P(B|A^c)P(A^c)} = \\text{(by the total probability) }\\frac{P(B|A)P(A)}{P(B)}\n",
    "$$"
   ]
  },
  {
   "cell_type": "markdown",
   "metadata": {
    "slideshow": {
     "slide_type": "slide"
    }
   },
   "source": [
    "#### Example:\n",
    "Divide emails $A_1 = \\text{\"spam\"}$, $A_2 = \\text{\"low priority\"}$ and $A_3 = \\text{\"high priority\"}$ and let: $P(A_1) = 0.7$, $P(A_2) = 0.2$ and $P(A_3) = 0.1$. ($P(A_1) + P(A_2) + P(A_3) = 0.7 + 0.2 + 0.1 = 1$)\n",
    "<br>\n",
    "Let $B$ be the event that email contains the word \"free\" and we know from previous experience that: $P(B|A_1) = 0.9$, $P(B|A_2) = 0.01$ and $P(B|A_3) = 0.01$.\n",
    "<br>\n",
    "If we receive the email with word \"free\" in it, what is the probability, that this email is spam?\n",
    "From Bayes' theorem:\n",
    "$$\n",
    "P(A_1|B) = \\frac{P(B|A_1)P(A_1)}{P(B|A_1)P(A_1) + P(B|A_2)P(A_2) + P(B|A_3)P(A_3)} = \\frac{0.9 \\cdot 0.7}{0.9 \\cdot 0.7 + 0.01 \\cdot 0.2 + 0.01 \\cdot .01} = 0.995\n",
    "$$"
   ]
  },
  {
   "cell_type": "markdown",
   "metadata": {
    "slideshow": {
     "slide_type": "slide"
    }
   },
   "source": [
    "## Multi-dimensional case"
   ]
  },
  {
   "cell_type": "markdown",
   "metadata": {
    "slideshow": {
     "slide_type": "slide"
    }
   },
   "source": [
    "#### Example Golf and Weather"
   ]
  },
  {
   "cell_type": "code",
   "execution_count": 121,
   "metadata": {
    "slideshow": {
     "slide_type": "slide"
    }
   },
   "outputs": [],
   "source": [
    "import pandas as pd\n",
    "import numpy as np\n",
    "from pathlib import Path"
   ]
  },
  {
   "cell_type": "code",
   "execution_count": 67,
   "metadata": {},
   "outputs": [],
   "source": [
    "path = Path('data')\n",
    "nb = path / 'naive_bayes'\n",
    "golf_csv = nb / 'golf.csv'"
   ]
  },
  {
   "cell_type": "code",
   "execution_count": 174,
   "metadata": {},
   "outputs": [],
   "source": [
    "def strip_txt(txt:str) -> str:\n",
    "    return txt.replace(\"'\", '').strip() if txt else txt"
   ]
  },
  {
   "cell_type": "code",
   "execution_count": 175,
   "metadata": {
    "slideshow": {
     "slide_type": "slide"
    }
   },
   "outputs": [
    {
     "data": {
      "text/html": [
       "<div>\n",
       "<style scoped>\n",
       "    .dataframe tbody tr th:only-of-type {\n",
       "        vertical-align: middle;\n",
       "    }\n",
       "\n",
       "    .dataframe tbody tr th {\n",
       "        vertical-align: top;\n",
       "    }\n",
       "\n",
       "    .dataframe thead th {\n",
       "        text-align: right;\n",
       "    }\n",
       "</style>\n",
       "<table border=\"1\" class=\"dataframe\">\n",
       "  <thead>\n",
       "    <tr style=\"text-align: right;\">\n",
       "      <th></th>\n",
       "      <th>outlook</th>\n",
       "      <th>temp</th>\n",
       "      <th>humidity</th>\n",
       "      <th>wind</th>\n",
       "      <th>label</th>\n",
       "    </tr>\n",
       "  </thead>\n",
       "  <tbody>\n",
       "    <tr>\n",
       "      <td>0</td>\n",
       "      <td>Sunny</td>\n",
       "      <td>Hot</td>\n",
       "      <td>High</td>\n",
       "      <td>Weak</td>\n",
       "      <td>No</td>\n",
       "    </tr>\n",
       "    <tr>\n",
       "      <td>1</td>\n",
       "      <td>Sunny</td>\n",
       "      <td>Hot</td>\n",
       "      <td>High</td>\n",
       "      <td>Strong</td>\n",
       "      <td>No</td>\n",
       "    </tr>\n",
       "    <tr>\n",
       "      <td>2</td>\n",
       "      <td>Overcast</td>\n",
       "      <td>Hot</td>\n",
       "      <td>High</td>\n",
       "      <td>Weak</td>\n",
       "      <td>Yes</td>\n",
       "    </tr>\n",
       "    <tr>\n",
       "      <td>3</td>\n",
       "      <td>Rain</td>\n",
       "      <td>Mild</td>\n",
       "      <td>High</td>\n",
       "      <td>Weak</td>\n",
       "      <td>Yes</td>\n",
       "    </tr>\n",
       "    <tr>\n",
       "      <td>4</td>\n",
       "      <td>Rain</td>\n",
       "      <td>Cool</td>\n",
       "      <td>Normal</td>\n",
       "      <td>Weak</td>\n",
       "      <td>Yes</td>\n",
       "    </tr>\n",
       "    <tr>\n",
       "      <td>5</td>\n",
       "      <td>Rain</td>\n",
       "      <td>Cool</td>\n",
       "      <td>Normal</td>\n",
       "      <td>Strong</td>\n",
       "      <td>No</td>\n",
       "    </tr>\n",
       "    <tr>\n",
       "      <td>6</td>\n",
       "      <td>Overcast</td>\n",
       "      <td>Cool</td>\n",
       "      <td>Normal</td>\n",
       "      <td>Strong</td>\n",
       "      <td>Yes</td>\n",
       "    </tr>\n",
       "    <tr>\n",
       "      <td>7</td>\n",
       "      <td>Sunny</td>\n",
       "      <td>Mild</td>\n",
       "      <td>High</td>\n",
       "      <td>Weak</td>\n",
       "      <td>No</td>\n",
       "    </tr>\n",
       "    <tr>\n",
       "      <td>8</td>\n",
       "      <td>Sunny</td>\n",
       "      <td>Cool</td>\n",
       "      <td>Normal</td>\n",
       "      <td>Weak</td>\n",
       "      <td>Yes</td>\n",
       "    </tr>\n",
       "    <tr>\n",
       "      <td>9</td>\n",
       "      <td>Rain</td>\n",
       "      <td>Mild</td>\n",
       "      <td>Normal</td>\n",
       "      <td>Weak</td>\n",
       "      <td>Yes</td>\n",
       "    </tr>\n",
       "    <tr>\n",
       "      <td>10</td>\n",
       "      <td>Sunny</td>\n",
       "      <td>Mild</td>\n",
       "      <td>Normal</td>\n",
       "      <td>Strong</td>\n",
       "      <td>Yes</td>\n",
       "    </tr>\n",
       "    <tr>\n",
       "      <td>11</td>\n",
       "      <td>Overcast</td>\n",
       "      <td>Mild</td>\n",
       "      <td>High</td>\n",
       "      <td>Strong</td>\n",
       "      <td>Yes</td>\n",
       "    </tr>\n",
       "    <tr>\n",
       "      <td>12</td>\n",
       "      <td>Overcast</td>\n",
       "      <td>Hot</td>\n",
       "      <td>Normal</td>\n",
       "      <td>Weak</td>\n",
       "      <td>Yes</td>\n",
       "    </tr>\n",
       "    <tr>\n",
       "      <td>13</td>\n",
       "      <td>Rain</td>\n",
       "      <td>Mild</td>\n",
       "      <td>High</td>\n",
       "      <td>Strong</td>\n",
       "      <td>No</td>\n",
       "    </tr>\n",
       "  </tbody>\n",
       "</table>\n",
       "</div>"
      ],
      "text/plain": [
       "     outlook  temp humidity    wind label\n",
       "0      Sunny   Hot     High    Weak    No\n",
       "1      Sunny   Hot     High  Strong    No\n",
       "2   Overcast   Hot     High    Weak   Yes\n",
       "3       Rain  Mild     High    Weak   Yes\n",
       "4       Rain  Cool   Normal    Weak   Yes\n",
       "5       Rain  Cool   Normal  Strong    No\n",
       "6   Overcast  Cool   Normal  Strong   Yes\n",
       "7      Sunny  Mild     High    Weak    No\n",
       "8      Sunny  Cool   Normal    Weak   Yes\n",
       "9       Rain  Mild   Normal    Weak   Yes\n",
       "10     Sunny  Mild   Normal  Strong   Yes\n",
       "11  Overcast  Mild     High  Strong   Yes\n",
       "12  Overcast   Hot   Normal    Weak   Yes\n",
       "13      Rain  Mild     High  Strong    No"
      ]
     },
     "execution_count": 175,
     "metadata": {},
     "output_type": "execute_result"
    }
   ],
   "source": [
    "df = pd.read_csv(golf_csv, converters={'outlook':strip_txt,\n",
    "                                       'temp': strip_txt,\n",
    "                                       'humidity': strip_txt,\n",
    "                                       'wind': strip_txt,\n",
    "                                       'label': strip_txt})\n",
    "df"
   ]
  },
  {
   "cell_type": "markdown",
   "metadata": {
    "slideshow": {
     "slide_type": "slide"
    }
   },
   "source": [
    "Let's calculate each Label probabilities\n",
    "<br>\n",
    "$P(\\text{\"Yes\"}) = 9/14$ and $P(\\text{\"No\"}) = 5/14$"
   ]
  },
  {
   "cell_type": "markdown",
   "metadata": {
    "slideshow": {
     "slide_type": "slide"
    }
   },
   "source": [
    "Let't conditional probability of outlook 'Sunny' feature with respect of labels\n",
    "<br>\n",
    "$P(\\text{\"Yes\"}|\\text{\"Sunny\"}) = 2/9$ and $P(\\text{\"No\"}|\\text{\"Sunny\"}) = 3/5$\n"
   ]
  },
  {
   "cell_type": "markdown",
   "metadata": {
    "slideshow": {
     "slide_type": "slide"
    }
   },
   "source": [
    "Let't conditional probability of outlook 'Overcast' feature with respect of labels\n",
    "<br>\n",
    "$𝑃(\"Yes\"|\"Overcast\")=3/9$  and  $𝑃(\"No\"|\"Overcast\")=0/5$"
   ]
  },
  {
   "cell_type": "code",
   "execution_count": 176,
   "metadata": {
    "slideshow": {
     "slide_type": "slide"
    }
   },
   "outputs": [
    {
     "data": {
      "text/plain": [
       "0        Sunny\n",
       "1        Sunny\n",
       "2     Overcast\n",
       "3         Rain\n",
       "4         Rain\n",
       "5         Rain\n",
       "6     Overcast\n",
       "7        Sunny\n",
       "8        Sunny\n",
       "9         Rain\n",
       "10       Sunny\n",
       "11    Overcast\n",
       "12    Overcast\n",
       "13        Rain\n",
       "Name: outlook, dtype: object"
      ]
     },
     "execution_count": 176,
     "metadata": {},
     "output_type": "execute_result"
    }
   ],
   "source": [
    "df.outlook"
   ]
  },
  {
   "cell_type": "code",
   "execution_count": 192,
   "metadata": {
    "slideshow": {
     "slide_type": "slide"
    }
   },
   "outputs": [
    {
     "data": {
      "text/plain": [
       "(9, 5, 14)"
      ]
     },
     "execution_count": 192,
     "metadata": {},
     "output_type": "execute_result"
    }
   ],
   "source": [
    "y_vals = df[df.label.str.contains('Yes')].count()[0]\n",
    "n_vals = df[df.label.str.contains('No')].count()[0]\n",
    "f_vals = df.count()[0]\n",
    "y_vals, n_vals, f_vals"
   ]
  },
  {
   "cell_type": "code",
   "execution_count": 178,
   "metadata": {},
   "outputs": [
    {
     "data": {
      "text/plain": [
       "array(['Sunny', 'Overcast', 'Rain'], dtype=object)"
      ]
     },
     "execution_count": 178,
     "metadata": {},
     "output_type": "execute_result"
    }
   ],
   "source": [
    "df.outlook.unique()"
   ]
  },
  {
   "cell_type": "code",
   "execution_count": 179,
   "metadata": {
    "slideshow": {
     "slide_type": "slide"
    }
   },
   "outputs": [
    {
     "name": "stdout",
     "output_type": "stream",
     "text": [
      "sunny_y = 2/9, sunny_n = 3/5\n",
      "overcast_y = 4/9, overcast_n = 0/5\n",
      "rain_y = 3/9, rain_y = 3/5\n"
     ]
    }
   ],
   "source": [
    "sunny_y = df[df.outlook.str.contains('Sunny') & df.label.str.contains('Yes')].count()[0] \n",
    "sunny_n = df[df.outlook.str.contains('Sunny') & df.label.str.contains('No')].count()[0] \n",
    "overcast_y = df[df.outlook.str.contains('Overcast') & df.label.str.contains('Yes')].count()[0] \n",
    "overcast_n = df[df.outlook.str.contains('Overcast') & df.label.str.contains('No')].count()[0] \n",
    "rain_y = df[df.outlook.str.contains('Rain') & df.label.str.contains('Yes')].count()[0]\n",
    "rain_n = df[df.outlook.str.contains('Rain') & df.label.str.contains('No')].count()[0]\n",
    "print(f'sunny_y = {sunny_y}/{y_vals}, sunny_n = {sunny_n}/{n_vals}')\n",
    "print(f'overcast_y = {overcast_y}/{y_vals}, overcast_n = {overcast_n}/{n_vals}')\n",
    "print(f'rain_y = {rain_y}/{y_vals}, rain_y = {rain_y}/{n_vals}')"
   ]
  },
  {
   "cell_type": "code",
   "execution_count": 180,
   "metadata": {
    "slideshow": {
     "slide_type": "slide"
    }
   },
   "outputs": [],
   "source": [
    "def count_feat(col_name:str, col_val:str) -> int:\n",
    "    return df[df[col_name].str.contains(col_val)].count()[0]\n",
    "\n",
    "def count_cond(col_name:str, col_val:str, lab:str) -> int:\n",
    "    return df[df[col_name].str.contains(col_val) & df.label.str.contains(lab)].count()[0]\n",
    "\n",
    "def count_probs(col_name:str) -> int:\n",
    "    col_vals = df[col_name].unique()\n",
    "    for col_val in col_vals:\n",
    "        val_y = count_cond(col_name, col_val, 'Yes')\n",
    "        val_n = count_cond(col_name, col_val, 'No')\n",
    "        val_f = count_feat(col_name, col_val)\n",
    "        yield val_y, val_n, val_f, col_val\n",
    "    "
   ]
  },
  {
   "cell_type": "code",
   "execution_count": 181,
   "metadata": {
    "slideshow": {
     "slide_type": "slide"
    }
   },
   "outputs": [
    {
     "data": {
      "text/plain": [
       "[(2, 2, 4, 'Hot'), (4, 2, 6, 'Mild'), (3, 1, 4, 'Cool')]"
      ]
     },
     "execution_count": 181,
     "metadata": {},
     "output_type": "execute_result"
    }
   ],
   "source": [
    "col_vals = df.temp.unique()\n",
    "temp_vals = [(ys, ns, fs, vls) for (ys, ns, fs, vls) in count_probs('temp')]\n",
    "temp_vals"
   ]
  },
  {
   "cell_type": "code",
   "execution_count": 182,
   "metadata": {
    "slideshow": {
     "slide_type": "slide"
    }
   },
   "outputs": [
    {
     "data": {
      "text/plain": [
       "[('outlook', [(2, 3, 5, 'Sunny'), (4, 0, 4, 'Overcast'), (3, 2, 5, 'Rain')]),\n",
       " ('temp', [(2, 2, 4, 'Hot'), (4, 2, 6, 'Mild'), (3, 1, 4, 'Cool')]),\n",
       " ('humidity', [(3, 4, 7, 'High'), (6, 1, 7, 'Normal')]),\n",
       " ('wind', [(6, 2, 8, 'Weak'), (3, 3, 6, 'Strong')]),\n",
       " ('label', [(0, 5, 5, 'No'), (9, 0, 9, 'Yes')])]"
      ]
     },
     "execution_count": 182,
     "metadata": {},
     "output_type": "execute_result"
    }
   ],
   "source": [
    "col_vals = [(col_name, [(ys, ns, fs, vls) for (ys, ns, fs, vls) in count_probs(col_name)]) \n",
    "            for col_name in df.columns]\n",
    "col_vals"
   ]
  },
  {
   "cell_type": "code",
   "execution_count": 183,
   "metadata": {
    "slideshow": {
     "slide_type": "slide"
    }
   },
   "outputs": [
    {
     "name": "stdout",
     "output_type": "stream",
     "text": [
      "outlook: \n",
      "P(Sunny) = 5, P(Sunny|Yes) = 2/9, P(Sunny|No) = 3/5\n",
      "P(Overcast) = 4, P(Overcast|Yes) = 4/9, P(Overcast|No) = 0/5\n",
      "P(Rain) = 5, P(Rain|Yes) = 3/9, P(Rain|No) = 2/5\n",
      "===============\n",
      "temp: \n",
      "P(Hot) = 4, P(Hot|Yes) = 2/9, P(Hot|No) = 2/5\n",
      "P(Mild) = 6, P(Mild|Yes) = 4/9, P(Mild|No) = 2/5\n",
      "P(Cool) = 4, P(Cool|Yes) = 3/9, P(Cool|No) = 1/5\n",
      "===============\n",
      "humidity: \n",
      "P(High) = 7, P(High|Yes) = 3/9, P(High|No) = 4/5\n",
      "P(Normal) = 7, P(Normal|Yes) = 6/9, P(Normal|No) = 1/5\n",
      "===============\n",
      "wind: \n",
      "P(Weak) = 8, P(Weak|Yes) = 6/9, P(Weak|No) = 2/5\n",
      "P(Strong) = 6, P(Strong|Yes) = 3/9, P(Strong|No) = 3/5\n",
      "===============\n",
      "label: \n",
      "P(No) = 5, P(No|Yes) = 0/9, P(No|No) = 5/5\n",
      "P(Yes) = 9, P(Yes|Yes) = 9/9, P(Yes|No) = 0/5\n",
      "===============\n",
      "\n"
     ]
    }
   ],
   "source": [
    "lns = ''\n",
    "for col_val in col_vals:\n",
    "    ln = f'{col_val[0]}: \\n' + '\\n'.join(f'P({nm}) = {f_v}, P({nm}|Yes) = {y_v}/{y_vals}, P({nm}|No) = {n_v}/{n_vals}'\n",
    "                               for y_v, n_v, f_v, nm in col_val[1]) + '\\n'\n",
    "    lns += ln\n",
    "    lns += '===============\\n'\n",
    "print(lns)"
   ]
  },
  {
   "cell_type": "code",
   "execution_count": 185,
   "metadata": {
    "slideshow": {
     "slide_type": "slide"
    }
   },
   "outputs": [
    {
     "data": {
      "text/plain": [
       "{'outlook': {'Sunny': (2, 3, 5), 'Overcast': (4, 0, 4), 'Rain': (3, 2, 5)},\n",
       " 'temp': {'Hot': (2, 2, 4), 'Mild': (4, 2, 6), 'Cool': (3, 1, 4)},\n",
       " 'humidity': {'High': (3, 4, 7), 'Normal': (6, 1, 7)},\n",
       " 'wind': {'Weak': (6, 2, 8), 'Strong': (3, 3, 6)}}"
      ]
     },
     "execution_count": 185,
     "metadata": {},
     "output_type": "execute_result"
    }
   ],
   "source": [
    "model_vals = {col_name: {vls: (ys, ns, fs) for (ys, ns, fs, vls) in count_probs(col_name)} \n",
    "            for col_name in df.columns if col_name != 'label'}\n",
    "model_vals"
   ]
  },
  {
   "cell_type": "markdown",
   "metadata": {
    "slideshow": {
     "slide_type": "slide"
    }
   },
   "source": [
    "Outlook: \"Sunny\",\n",
    "Temperature: \"Cool\",\n",
    "Humidity: \"High\",\n",
    "Wind: \"Strong\"\n"
   ]
  },
  {
   "cell_type": "code",
   "execution_count": 196,
   "metadata": {
    "slideshow": {
     "slide_type": "slide"
    }
   },
   "outputs": [
    {
     "data": {
      "text/plain": [
       "(0.005291005291005291, 0.02057142857142857)"
      ]
     },
     "execution_count": 196,
     "metadata": {},
     "output_type": "execute_result"
    }
   ],
   "source": [
    "out_v = model_vals['outlook']['Sunny']\n",
    "tmp_v = model_vals['temp']['Cool']\n",
    "hum_v = model_vals['humidity']['High']\n",
    "wnd_v = model_vals['wind']['Strong']\n",
    "yes_raw = (out_v[0] / y_vals) * (tmp_v[0] / y_vals) * (hum_v[0] / y_vals) * (wnd_v[0] / y_vals) * (y_vals / f_vals) \n",
    "no_raw = (out_v[1] / n_vals) * (tmp_v[1] / n_vals) * (hum_v[1] / n_vals) * (wnd_v[1] / n_vals) * (n_vals / f_vals)\n",
    "yes_raw, no_raw"
   ]
  },
  {
   "cell_type": "code",
   "execution_count": 198,
   "metadata": {
    "slideshow": {
     "slide_type": "slide"
    }
   },
   "outputs": [
    {
     "data": {
      "text/plain": [
       "0.021865889212827987"
      ]
     },
     "execution_count": 198,
     "metadata": {},
     "output_type": "execute_result"
    }
   ],
   "source": [
    "p_x = (out_v[2] / f_vals) * (tmp_v[2] / f_vals) * (hum_v[2] / f_vals) * (wnd_v[2] / f_vals)\n",
    "p_x"
   ]
  },
  {
   "cell_type": "code",
   "execution_count": 203,
   "metadata": {
    "slideshow": {
     "slide_type": "slide"
    }
   },
   "outputs": [
    {
     "name": "stdout",
     "output_type": "stream",
     "text": [
      "yes_pred = 0.2419753086419753, no_pred = 0.9408\n"
     ]
    }
   ],
   "source": [
    "yes_pred = yes_raw / p_x\n",
    "no_pred = no_raw / p_x\n",
    "print(f'yes_pred = {yes_pred}, no_pred = {no_pred}')"
   ]
  },
  {
   "cell_type": "code",
   "execution_count": 205,
   "metadata": {
    "slideshow": {
     "slide_type": "slide"
    }
   },
   "outputs": [],
   "source": [
    "def predict(x:tuple) -> tuple:\n",
    "    out_v = model_vals['outlook'][x[0].capitalize()]\n",
    "    tmp_v = model_vals['temp'][x[1].capitalize()]\n",
    "    hum_v = model_vals['humidity'][x[2].capitalize()]\n",
    "    wnd_v = model_vals['wind'][x[3].capitalize()]\n",
    "    yes_raw = (out_v[0] / y_vals) * (tmp_v[0] / y_vals) * (hum_v[0] / y_vals) * (wnd_v[0] / y_vals) * (y_vals / f_vals) \n",
    "    no_raw = (out_v[1] / n_vals) * (tmp_v[1] / n_vals) * (hum_v[1] / n_vals) * (wnd_v[1] / n_vals) * (n_vals / f_vals)\n",
    "    p_x = (out_v[2] / f_vals) * (tmp_v[2] / f_vals) * (hum_v[2] / f_vals) * (wnd_v[2] / f_vals)\n",
    "    yes_pred = yes_raw / p_x\n",
    "    no_pred = no_raw / p_x\n",
    "    \n",
    "    return yes_pred, no_pred"
   ]
  },
  {
   "cell_type": "code",
   "execution_count": 208,
   "metadata": {},
   "outputs": [
    {
     "name": "stdout",
     "output_type": "stream",
     "text": [
      "yes_pred = 0.2419753086419753, no_pred = 0.9408\n"
     ]
    }
   ],
   "source": [
    "x_vec = ('Sunny', 'Cool', 'High', 'Strong')\n",
    "y_pr, n_pr = predict(x_vec)\n",
    "print(f'yes_pred = {y_pr}, no_pred = {n_pr}')"
   ]
  },
  {
   "cell_type": "markdown",
   "metadata": {
    "slideshow": {
     "slide_type": "slide"
    }
   },
   "source": [
    "Let's $A_1 = \\text{\"spam\"}$ and $A_2 = \\text{\"not spam\"}$ and let we have $100$ emails with $30$ spam and $70$ not spam so $P(A_1) = 0.3$ and $P(A_2) = 0.7$"
   ]
  },
  {
   "cell_type": "code",
   "execution_count": null,
   "metadata": {
    "slideshow": {
     "slide_type": "slide"
    }
   },
   "outputs": [],
   "source": []
  }
 ],
 "metadata": {
  "celltoolbar": "Slideshow",
  "kernelspec": {
   "display_name": "Python 3",
   "language": "python",
   "name": "python3"
  },
  "language_info": {
   "codemirror_mode": {
    "name": "ipython",
    "version": 3
   },
   "file_extension": ".py",
   "mimetype": "text/x-python",
   "name": "python",
   "nbconvert_exporter": "python",
   "pygments_lexer": "ipython3",
   "version": "3.7.4"
  },
  "toc": {
   "base_numbering": 1,
   "nav_menu": {},
   "number_sections": true,
   "sideBar": true,
   "skip_h1_title": false,
   "title_cell": "Table of Contents",
   "title_sidebar": "Contents",
   "toc_cell": false,
   "toc_position": {},
   "toc_section_display": true,
   "toc_window_display": false
  },
  "varInspector": {
   "cols": {
    "lenName": 16,
    "lenType": 16,
    "lenVar": 40
   },
   "kernels_config": {
    "python": {
     "delete_cmd_postfix": "",
     "delete_cmd_prefix": "del ",
     "library": "var_list.py",
     "varRefreshCmd": "print(var_dic_list())"
    },
    "r": {
     "delete_cmd_postfix": ") ",
     "delete_cmd_prefix": "rm(",
     "library": "var_list.r",
     "varRefreshCmd": "cat(var_dic_list()) "
    }
   },
   "types_to_exclude": [
    "module",
    "function",
    "builtin_function_or_method",
    "instance",
    "_Feature"
   ],
   "window_display": false
  }
 },
 "nbformat": 4,
 "nbformat_minor": 2
}
