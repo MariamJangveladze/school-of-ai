{
 "cells": [
  {
   "cell_type": "code",
   "execution_count": 2,
   "metadata": {
    "slideshow": {
     "slide_type": "slide"
    }
   },
   "outputs": [
    {
     "name": "stdout",
     "output_type": "stream",
     "text": [
      "The autoreload extension is already loaded. To reload it, use:\n",
      "  %reload_ext autoreload\n"
     ]
    }
   ],
   "source": [
    "%load_ext autoreload\n",
    "%autoreload 2\n",
    "\n",
    "%matplotlib inline"
   ]
  },
  {
   "cell_type": "markdown",
   "metadata": {
    "slideshow": {
     "slide_type": "slide"
    }
   },
   "source": [
    "## Basic setup"
   ]
  },
  {
   "cell_type": "markdown",
   "metadata": {
    "slideshow": {
     "slide_type": "slide"
    }
   },
   "source": [
    "Create anaconda environment\n",
    "<br>\n",
    "```bash\n",
    "conda create -n ml python=3.7.5 jupyter\n",
    "```\n",
    "Install fastai library\n",
    "<br>\n",
    "```bash\n",
    "conda install -c pytorch -c fastai fastai\n",
    "```"
   ]
  },
  {
   "cell_type": "markdown",
   "metadata": {
    "slideshow": {
     "slide_type": "slide"
    }
   },
   "source": [
    "## Optimization algorithms"
   ]
  },
  {
   "cell_type": "markdown",
   "metadata": {
    "slideshow": {
     "slide_type": "slide"
    }
   },
   "source": [
    "#### Moving average"
   ]
  },
  {
   "cell_type": "markdown",
   "metadata": {
    "slideshow": {
     "slide_type": "slide"
    }
   },
   "source": [
    "Define data as $(y_1, y_2, \\dots, y_n)$ peaks of function $f:X \\to Y$ where for some $(x_1, x_2, \\dots, x_n)$, $f(x_1) = y_1, f(x_2) = y_2, \\dots, f(x_n) = y_n$ and define\n",
    "<br>\n",
    "$$a_1 = y_1,  a_2 = \\beta y_2 + (1 - \\beta)a_1$$ \n",
    "</br>\n",
    "for $\\beta \\in [0, 1]$"
   ]
  },
  {
   "cell_type": "markdown",
   "metadata": {
    "slideshow": {
     "slide_type": "slide"
    }
   },
   "source": []
  },
  {
   "cell_type": "markdown",
   "metadata": {
    "slideshow": {
     "slide_type": "slide"
    }
   },
   "source": [
    "## SGD with momentum"
   ]
  },
  {
   "cell_type": "markdown",
   "metadata": {
    "slideshow": {
     "slide_type": "slide"
    }
   },
   "source": []
  },
  {
   "cell_type": "code",
   "execution_count": null,
   "metadata": {
    "slideshow": {
     "slide_type": "slide"
    }
   },
   "outputs": [],
   "source": []
  },
  {
   "cell_type": "markdown",
   "metadata": {
    "slideshow": {
     "slide_type": "slide"
    }
   },
   "source": [
    "## Gradient descent with momentum"
   ]
  },
  {
   "cell_type": "markdown",
   "metadata": {
    "slideshow": {
     "slide_type": "slide"
    }
   },
   "source": [
    "Recall gradient descent algorithm, for some cost function $C$ and learning rate $\\alpha$ we do parameters (weights) update by:\n",
    "$$\n",
    "W^l_{i,j} = W^l_{i,j} - \\alpha \\frac{\\partial{C}}{\\partial{W^l_{i,j}}}\n",
    "$$\n",
    "<br>\n",
    "and\n",
    "$$\n",
    "b^l_{j} = b^l_{j} - \\alpha \\frac{\\partial{C}}{\\partial{W^l_{j}}}\n",
    "$$"
   ]
  },
  {
   "cell_type": "markdown",
   "metadata": {
    "slideshow": {
     "slide_type": "slide"
    }
   },
   "source": [
    "If the cost function $C$ is defined, denote partial derivative with respect of weights: \n",
    "$$\n",
    "d{W} = \\nabla_{W}C\n",
    "$$\n",
    "<br>\n",
    "and with respect of biases:\n",
    "$$\n",
    "d{b} = \\nabla_{b}C\n",
    "$$"
   ]
  },
  {
   "cell_type": "markdown",
   "metadata": {
    "slideshow": {
     "slide_type": "slide"
    }
   },
   "source": [
    "So our gradient descent optimization can be written as:\n",
    "$$\n",
    "W^l_{i,j} = W^l_{i,j} - \\alpha \\partial{W^l_{i,j}}\n",
    "$$\n",
    "<br>\n",
    "and\n",
    "$$\n",
    "b^l_{j} = b^l_{j} - \\alpha \\partial{b^l_{j}}\n",
    "$$"
   ]
  },
  {
   "cell_type": "markdown",
   "metadata": {
    "slideshow": {
     "slide_type": "slide"
    }
   },
   "source": [
    "Or in general for batch or mini-batch gradient descent\n",
    "optimization can be written as:\n",
    "$$\n",
    "W = W - \\alpha d{W}\n",
    "$$\n",
    "<br>\n",
    "and\n",
    "$$\n",
    "b = b - \\alpha d{b}\n",
    "$$"
   ]
  },
  {
   "cell_type": "markdown",
   "metadata": {
    "slideshow": {
     "slide_type": "slide"
    }
   },
   "source": [
    "<div>\n",
    "<img src=\"images/opts/gd_1.png\"  height=\"600\" width=\"800\" />\n",
    "</div>"
   ]
  },
  {
   "cell_type": "markdown",
   "metadata": {
    "slideshow": {
     "slide_type": "slide"
    }
   },
   "source": [
    "Here we have a picks and higher is oscillation slower the optimization is.\n",
    "We can use moving average in order to reduce horizontal variance and increase speed of optimization:\n",
    "$$\n",
    "V_{d W} = \\beta V_{d W} + (1 - \\beta)d W\n",
    "$$\n",
    "<br>\n",
    "$$\n",
    "V_{d b} = \\beta V_{d b} + (1 - \\beta)d b\n",
    "$$"
   ]
  },
  {
   "cell_type": "markdown",
   "metadata": {
    "slideshow": {
     "slide_type": "slide"
    }
   },
   "source": [
    "We can use this averages in gradient descent optimization instead of direct gradients:\n",
    "$$\n",
    "W = W - \\alpha V_{d W}\n",
    "$$\n",
    "<br>\n",
    "and\n",
    "$$\n",
    "b = b - \\alpha V_{d b}\n",
    "$$"
   ]
  },
  {
   "attachments": {},
   "cell_type": "markdown",
   "metadata": {
    "slideshow": {
     "slide_type": "slide"
    }
   },
   "source": [
    "<div>\n",
    "<img src=\"images/opts/gd_mom_1.png\"  height=\"600\" width=\"800\" />\n",
    "</div>"
   ]
  },
  {
   "cell_type": "markdown",
   "metadata": {
    "slideshow": {
     "slide_type": "slide"
    }
   },
   "source": [
    "## RMSProp optimization"
   ]
  },
  {
   "cell_type": "markdown",
   "metadata": {
    "slideshow": {
     "slide_type": "slide"
    }
   },
   "source": [
    "<b>Root Mean Square Prop</b>"
   ]
  },
  {
   "cell_type": "markdown",
   "metadata": {
    "slideshow": {
     "slide_type": "slide"
    }
   },
   "source": [
    "Calculate momentum with changes:\n",
    "$$\n",
    "S_{d W} = \\beta S_{d W} + (1 - \\beta)d W^2 \\text{ elementwise}\n",
    "$$\n",
    "<br>\n",
    "$$\n",
    "S_{d b} = \\beta S_{d b} + (1 - \\beta)d b^2 \\text{ elementwise}\n",
    "$$"
   ]
  },
  {
   "cell_type": "markdown",
   "metadata": {
    "slideshow": {
     "slide_type": "slide"
    }
   },
   "source": [
    "Now update the weights and biases by:\n",
    "$$\n",
    "W = W - \\alpha \\frac{d W}{\\sqrt{S_{d W}}}\n",
    "$$\n",
    "<br>\n",
    "and\n",
    "$$\n",
    "b = b - \\alpha \\frac{d b}{\\sqrt{S_{d b}}}\n",
    "$$"
   ]
  },
  {
   "cell_type": "markdown",
   "metadata": {
    "slideshow": {
     "slide_type": "slide"
    }
   },
   "source": [
    "Here if $S_{d W}$ is large, it means that step will be forward"
   ]
  },
  {
   "cell_type": "markdown",
   "metadata": {
    "slideshow": {
     "slide_type": "slide"
    }
   },
   "source": [
    "To avoid zero division error (if $\\sqrt{S_{d W}}$ or $\\sqrt{S_{d b}}$ is almost zero) we can add small $\\epsilon$ to the denominators:\n",
    "$$\n",
    "W = W - \\alpha \\frac{d W}{\\sqrt{S_{d W}} + \\epsilon}\n",
    "$$\n",
    "<br>\n",
    "and\n",
    "$$\n",
    "b = b - \\alpha \\frac{d b}{\\sqrt{S_{d b}} + \\epsilon}\n",
    "$$"
   ]
  },
  {
   "cell_type": "markdown",
   "metadata": {
    "slideshow": {
     "slide_type": "slide"
    }
   },
   "source": [
    "Here $\\epsilon = 10^{-8}$ for instance"
   ]
  },
  {
   "cell_type": "markdown",
   "metadata": {
    "slideshow": {
     "slide_type": "slide"
    }
   },
   "source": []
  },
  {
   "cell_type": "markdown",
   "metadata": {
    "slideshow": {
     "slide_type": "slide"
    }
   },
   "source": []
  },
  {
   "cell_type": "markdown",
   "metadata": {
    "slideshow": {
     "slide_type": "slide"
    }
   },
   "source": []
  },
  {
   "cell_type": "markdown",
   "metadata": {
    "slideshow": {
     "slide_type": "slide"
    }
   },
   "source": []
  },
  {
   "cell_type": "markdown",
   "metadata": {
    "slideshow": {
     "slide_type": "slide"
    }
   },
   "source": []
  }
 ],
 "metadata": {
  "celltoolbar": "Slideshow",
  "kernelspec": {
   "display_name": "Python 3",
   "language": "python",
   "name": "python3"
  },
  "language_info": {
   "codemirror_mode": {
    "name": "ipython",
    "version": 3
   },
   "file_extension": ".py",
   "mimetype": "text/x-python",
   "name": "python",
   "nbconvert_exporter": "python",
   "pygments_lexer": "ipython3",
   "version": "3.7.4"
  },
  "toc": {
   "base_numbering": 1,
   "nav_menu": {},
   "number_sections": true,
   "sideBar": true,
   "skip_h1_title": false,
   "title_cell": "Table of Contents",
   "title_sidebar": "Contents",
   "toc_cell": false,
   "toc_position": {},
   "toc_section_display": true,
   "toc_window_display": false
  },
  "varInspector": {
   "cols": {
    "lenName": 16,
    "lenType": 16,
    "lenVar": 40
   },
   "kernels_config": {
    "python": {
     "delete_cmd_postfix": "",
     "delete_cmd_prefix": "del ",
     "library": "var_list.py",
     "varRefreshCmd": "print(var_dic_list())"
    },
    "r": {
     "delete_cmd_postfix": ") ",
     "delete_cmd_prefix": "rm(",
     "library": "var_list.r",
     "varRefreshCmd": "cat(var_dic_list()) "
    }
   },
   "types_to_exclude": [
    "module",
    "function",
    "builtin_function_or_method",
    "instance",
    "_Feature"
   ],
   "window_display": false
  }
 },
 "nbformat": 4,
 "nbformat_minor": 2
}
